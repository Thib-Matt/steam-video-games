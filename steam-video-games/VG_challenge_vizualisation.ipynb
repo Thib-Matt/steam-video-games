{
 "cells": [
  {
   "cell_type": "markdown",
   "metadata": {},
   "source": [
    "# Video Games Challenge - Part 3: Analysis and Visualization\n",
    "\n",
    "You are a data scientist in the video game edition business, and you are asked to identify which factors, and combinations of factors, make a game successful (both critically and commercially). Possible sources: IGN, Steam, GameSpot..\n"
   ]
  },
  {
   "cell_type": "markdown",
   "metadata": {},
   "source": [
    "## Data preprocessing"
   ]
  },
  {
   "cell_type": "markdown",
   "metadata": {},
   "source": [
    "### Read the data"
   ]
  },
  {
   "cell_type": "code",
   "execution_count": 91,
   "metadata": {},
   "outputs": [],
   "source": [
    "import pandas as pd\n",
    "import numpy as np\n",
    "import scipy\n",
    "import os\n",
    "import os.path\n",
    "from matplotlib import cm\n",
    "from IPython.display import display, HTML\n",
    "import matplotlib\n",
    "%matplotlib inline\n",
    "import matplotlib.pyplot as plt\n",
    "import seaborn as sns\n",
    "from pylab import rcParams\n",
    "rcParams['figure.figsize'] = 13, 9"
   ]
  },
  {
   "cell_type": "code",
   "execution_count": 151,
   "metadata": {},
   "outputs": [],
   "source": [
    "# read csv file as a pandas data frame\n",
    "df = pd.read_csv(\"Steam_dataset.csv\")\n",
    "# add index_col=0 to have a single index (and not a duplication)"
   ]
  },
  {
   "cell_type": "code",
   "execution_count": 152,
   "metadata": {},
   "outputs": [
    {
     "data": {
      "text/html": [
       "<div>\n",
       "<style scoped>\n",
       "    .dataframe tbody tr th:only-of-type {\n",
       "        vertical-align: middle;\n",
       "    }\n",
       "\n",
       "    .dataframe tbody tr th {\n",
       "        vertical-align: top;\n",
       "    }\n",
       "\n",
       "    .dataframe thead th {\n",
       "        text-align: right;\n",
       "    }\n",
       "</style>\n",
       "<table border=\"1\" class=\"dataframe\">\n",
       "  <thead>\n",
       "    <tr style=\"text-align: right;\">\n",
       "      <th></th>\n",
       "      <th>game_id</th>\n",
       "      <th>Name</th>\n",
       "      <th>year</th>\n",
       "      <th>type</th>\n",
       "      <th>User_review</th>\n",
       "      <th>Number of reviews</th>\n",
       "      <th>Release_date</th>\n",
       "      <th>Language</th>\n",
       "      <th>Tags</th>\n",
       "      <th>Price</th>\n",
       "      <th>...</th>\n",
       "      <th>Historical</th>\n",
       "      <th>Building</th>\n",
       "      <th>Walking Simulator</th>\n",
       "      <th>World War I</th>\n",
       "      <th>Economy</th>\n",
       "      <th>Horror</th>\n",
       "      <th>Remake</th>\n",
       "      <th>Chinese</th>\n",
       "      <th>Spanish</th>\n",
       "      <th>Arabic</th>\n",
       "    </tr>\n",
       "  </thead>\n",
       "  <tbody>\n",
       "    <tr>\n",
       "      <th>0</th>\n",
       "      <td>570</td>\n",
       "      <td>Dota 2</td>\n",
       "      <td>2018</td>\n",
       "      <td>Platinum</td>\n",
       "      <td>Very Positive</td>\n",
       "      <td>1058771</td>\n",
       "      <td>9 Jul, 2013</td>\n",
       "      <td>['English', 'Bulgarian', 'Czech', 'Danish', 'D...</td>\n",
       "      <td>['Free to Play', 'MOBA', 'Multiplayer', 'Strat...</td>\n",
       "      <td>0.00</td>\n",
       "      <td>...</td>\n",
       "      <td>False</td>\n",
       "      <td>False</td>\n",
       "      <td>False</td>\n",
       "      <td>False</td>\n",
       "      <td>False</td>\n",
       "      <td>False</td>\n",
       "      <td>False</td>\n",
       "      <td>True</td>\n",
       "      <td>True</td>\n",
       "      <td>False</td>\n",
       "    </tr>\n",
       "    <tr>\n",
       "      <th>1</th>\n",
       "      <td>289070</td>\n",
       "      <td>Sid Meier’s Civilization® VI</td>\n",
       "      <td>2018</td>\n",
       "      <td>Platinum</td>\n",
       "      <td>Mixed</td>\n",
       "      <td>42471</td>\n",
       "      <td>20 Oct, 2016</td>\n",
       "      <td>['English', 'French', 'Italian', 'German', 'Sp...</td>\n",
       "      <td>['Strategy', 'Turn-Based Strategy', 'Historica...</td>\n",
       "      <td>69.95</td>\n",
       "      <td>...</td>\n",
       "      <td>True</td>\n",
       "      <td>True</td>\n",
       "      <td>False</td>\n",
       "      <td>False</td>\n",
       "      <td>False</td>\n",
       "      <td>False</td>\n",
       "      <td>False</td>\n",
       "      <td>True</td>\n",
       "      <td>True</td>\n",
       "      <td>False</td>\n",
       "    </tr>\n",
       "    <tr>\n",
       "      <th>2</th>\n",
       "      <td>730</td>\n",
       "      <td>Counter-Strike: Global Offensive</td>\n",
       "      <td>2018</td>\n",
       "      <td>Platinum</td>\n",
       "      <td>Very Positive</td>\n",
       "      <td>3304339</td>\n",
       "      <td>21 Aug, 2012</td>\n",
       "      <td>['English', 'Czech', 'Danish', 'Dutch', 'Finni...</td>\n",
       "      <td>['FPS', 'Shooter', 'Multiplayer', 'Competitive...</td>\n",
       "      <td>0.00</td>\n",
       "      <td>...</td>\n",
       "      <td>False</td>\n",
       "      <td>False</td>\n",
       "      <td>False</td>\n",
       "      <td>False</td>\n",
       "      <td>False</td>\n",
       "      <td>False</td>\n",
       "      <td>False</td>\n",
       "      <td>True</td>\n",
       "      <td>True</td>\n",
       "      <td>False</td>\n",
       "    </tr>\n",
       "  </tbody>\n",
       "</table>\n",
       "<p>3 rows × 311 columns</p>\n",
       "</div>"
      ],
      "text/plain": [
       "   game_id                              Name  year      type    User_review  \\\n",
       "0      570                            Dota 2  2018  Platinum  Very Positive   \n",
       "1   289070      Sid Meier’s Civilization® VI  2018  Platinum          Mixed   \n",
       "2      730  Counter-Strike: Global Offensive  2018  Platinum  Very Positive   \n",
       "\n",
       "   Number of reviews  Release_date  \\\n",
       "0            1058771   9 Jul, 2013   \n",
       "1              42471  20 Oct, 2016   \n",
       "2            3304339  21 Aug, 2012   \n",
       "\n",
       "                                            Language  \\\n",
       "0  ['English', 'Bulgarian', 'Czech', 'Danish', 'D...   \n",
       "1  ['English', 'French', 'Italian', 'German', 'Sp...   \n",
       "2  ['English', 'Czech', 'Danish', 'Dutch', 'Finni...   \n",
       "\n",
       "                                                Tags  Price  ...  Historical  \\\n",
       "0  ['Free to Play', 'MOBA', 'Multiplayer', 'Strat...   0.00  ...       False   \n",
       "1  ['Strategy', 'Turn-Based Strategy', 'Historica...  69.95  ...        True   \n",
       "2  ['FPS', 'Shooter', 'Multiplayer', 'Competitive...   0.00  ...       False   \n",
       "\n",
       "  Building Walking Simulator World War I  Economy  Horror  Remake  Chinese  \\\n",
       "0    False             False       False    False   False   False     True   \n",
       "1     True             False       False    False   False   False     True   \n",
       "2    False             False       False    False   False   False     True   \n",
       "\n",
       "   Spanish  Arabic  \n",
       "0     True   False  \n",
       "1     True   False  \n",
       "2     True   False  \n",
       "\n",
       "[3 rows x 311 columns]"
      ]
     },
     "execution_count": 152,
     "metadata": {},
     "output_type": "execute_result"
    }
   ],
   "source": [
    "df.head(3)"
   ]
  },
  {
   "cell_type": "code",
   "execution_count": 153,
   "metadata": {},
   "outputs": [
    {
     "data": {
      "text/plain": [
       "505"
      ]
     },
     "execution_count": 153,
     "metadata": {},
     "output_type": "execute_result"
    }
   ],
   "source": [
    "len(df)"
   ]
  },
  {
   "cell_type": "markdown",
   "metadata": {},
   "source": [
    "### find duplicates"
   ]
  },
  {
   "cell_type": "code",
   "execution_count": 154,
   "metadata": {},
   "outputs": [
    {
     "data": {
      "text/html": [
       "<div>\n",
       "<style scoped>\n",
       "    .dataframe tbody tr th:only-of-type {\n",
       "        vertical-align: middle;\n",
       "    }\n",
       "\n",
       "    .dataframe tbody tr th {\n",
       "        vertical-align: top;\n",
       "    }\n",
       "\n",
       "    .dataframe thead th {\n",
       "        text-align: right;\n",
       "    }\n",
       "</style>\n",
       "<table border=\"1\" class=\"dataframe\">\n",
       "  <thead>\n",
       "    <tr style=\"text-align: right;\">\n",
       "      <th></th>\n",
       "      <th>game_id</th>\n",
       "      <th>Name</th>\n",
       "      <th>year</th>\n",
       "      <th>type</th>\n",
       "      <th>User_review</th>\n",
       "      <th>Number of reviews</th>\n",
       "      <th>Release_date</th>\n",
       "      <th>Language</th>\n",
       "      <th>Tags</th>\n",
       "      <th>Price</th>\n",
       "      <th>...</th>\n",
       "      <th>Historical</th>\n",
       "      <th>Building</th>\n",
       "      <th>Walking Simulator</th>\n",
       "      <th>World War I</th>\n",
       "      <th>Economy</th>\n",
       "      <th>Horror</th>\n",
       "      <th>Remake</th>\n",
       "      <th>Chinese</th>\n",
       "      <th>Spanish</th>\n",
       "      <th>Arabic</th>\n",
       "    </tr>\n",
       "  </thead>\n",
       "  <tbody>\n",
       "    <tr>\n",
       "      <th>0</th>\n",
       "      <td>570</td>\n",
       "      <td>Dota 2</td>\n",
       "      <td>2018</td>\n",
       "      <td>Platinum</td>\n",
       "      <td>Very Positive</td>\n",
       "      <td>1058771</td>\n",
       "      <td>9 Jul, 2013</td>\n",
       "      <td>['English', 'Bulgarian', 'Czech', 'Danish', 'D...</td>\n",
       "      <td>['Free to Play', 'MOBA', 'Multiplayer', 'Strat...</td>\n",
       "      <td>0.0</td>\n",
       "      <td>...</td>\n",
       "      <td>False</td>\n",
       "      <td>False</td>\n",
       "      <td>False</td>\n",
       "      <td>False</td>\n",
       "      <td>False</td>\n",
       "      <td>False</td>\n",
       "      <td>False</td>\n",
       "      <td>True</td>\n",
       "      <td>True</td>\n",
       "      <td>False</td>\n",
       "    </tr>\n",
       "    <tr>\n",
       "      <th>102</th>\n",
       "      <td>570</td>\n",
       "      <td>Dota 2</td>\n",
       "      <td>2018</td>\n",
       "      <td>Over 100,000 Simultaneous Players</td>\n",
       "      <td>Very Positive</td>\n",
       "      <td>1058771</td>\n",
       "      <td>9 Jul, 2013</td>\n",
       "      <td>['English', 'Bulgarian', 'Czech', 'Danish', 'D...</td>\n",
       "      <td>['Free to Play', 'MOBA', 'Multiplayer', 'Strat...</td>\n",
       "      <td>0.0</td>\n",
       "      <td>...</td>\n",
       "      <td>False</td>\n",
       "      <td>False</td>\n",
       "      <td>False</td>\n",
       "      <td>False</td>\n",
       "      <td>False</td>\n",
       "      <td>False</td>\n",
       "      <td>False</td>\n",
       "      <td>True</td>\n",
       "      <td>True</td>\n",
       "      <td>False</td>\n",
       "    </tr>\n",
       "    <tr>\n",
       "      <th>216</th>\n",
       "      <td>570</td>\n",
       "      <td>Dota 2</td>\n",
       "      <td>2017</td>\n",
       "      <td>Platinum</td>\n",
       "      <td>Very Positive</td>\n",
       "      <td>1058771</td>\n",
       "      <td>9 Jul, 2013</td>\n",
       "      <td>['English', 'Bulgarian', 'Czech', 'Danish', 'D...</td>\n",
       "      <td>['Free to Play', 'MOBA', 'Multiplayer', 'Strat...</td>\n",
       "      <td>0.0</td>\n",
       "      <td>...</td>\n",
       "      <td>False</td>\n",
       "      <td>False</td>\n",
       "      <td>False</td>\n",
       "      <td>False</td>\n",
       "      <td>False</td>\n",
       "      <td>False</td>\n",
       "      <td>False</td>\n",
       "      <td>True</td>\n",
       "      <td>True</td>\n",
       "      <td>False</td>\n",
       "    </tr>\n",
       "    <tr>\n",
       "      <th>316</th>\n",
       "      <td>570</td>\n",
       "      <td>Dota 2</td>\n",
       "      <td>2017</td>\n",
       "      <td>Over 100,000 Simultaneous Players</td>\n",
       "      <td>Very Positive</td>\n",
       "      <td>1058771</td>\n",
       "      <td>9 Jul, 2013</td>\n",
       "      <td>['English', 'Bulgarian', 'Czech', 'Danish', 'D...</td>\n",
       "      <td>['Free to Play', 'MOBA', 'Multiplayer', 'Strat...</td>\n",
       "      <td>0.0</td>\n",
       "      <td>...</td>\n",
       "      <td>False</td>\n",
       "      <td>False</td>\n",
       "      <td>False</td>\n",
       "      <td>False</td>\n",
       "      <td>False</td>\n",
       "      <td>False</td>\n",
       "      <td>False</td>\n",
       "      <td>True</td>\n",
       "      <td>True</td>\n",
       "      <td>False</td>\n",
       "    </tr>\n",
       "    <tr>\n",
       "      <th>415</th>\n",
       "      <td>570</td>\n",
       "      <td>Dota 2</td>\n",
       "      <td>2016</td>\n",
       "      <td>Platinum</td>\n",
       "      <td>Very Positive</td>\n",
       "      <td>1058771</td>\n",
       "      <td>9 Jul, 2013</td>\n",
       "      <td>['English', 'Bulgarian', 'Czech', 'Danish', 'D...</td>\n",
       "      <td>['Free to Play', 'MOBA', 'Multiplayer', 'Strat...</td>\n",
       "      <td>0.0</td>\n",
       "      <td>...</td>\n",
       "      <td>False</td>\n",
       "      <td>False</td>\n",
       "      <td>False</td>\n",
       "      <td>False</td>\n",
       "      <td>False</td>\n",
       "      <td>False</td>\n",
       "      <td>False</td>\n",
       "      <td>True</td>\n",
       "      <td>True</td>\n",
       "      <td>False</td>\n",
       "    </tr>\n",
       "  </tbody>\n",
       "</table>\n",
       "<p>5 rows × 311 columns</p>\n",
       "</div>"
      ],
      "text/plain": [
       "     game_id    Name  year                               type    User_review  \\\n",
       "0        570  Dota 2  2018                           Platinum  Very Positive   \n",
       "102      570  Dota 2  2018  Over 100,000 Simultaneous Players  Very Positive   \n",
       "216      570  Dota 2  2017                           Platinum  Very Positive   \n",
       "316      570  Dota 2  2017  Over 100,000 Simultaneous Players  Very Positive   \n",
       "415      570  Dota 2  2016                           Platinum  Very Positive   \n",
       "\n",
       "     Number of reviews Release_date  \\\n",
       "0              1058771  9 Jul, 2013   \n",
       "102            1058771  9 Jul, 2013   \n",
       "216            1058771  9 Jul, 2013   \n",
       "316            1058771  9 Jul, 2013   \n",
       "415            1058771  9 Jul, 2013   \n",
       "\n",
       "                                              Language  \\\n",
       "0    ['English', 'Bulgarian', 'Czech', 'Danish', 'D...   \n",
       "102  ['English', 'Bulgarian', 'Czech', 'Danish', 'D...   \n",
       "216  ['English', 'Bulgarian', 'Czech', 'Danish', 'D...   \n",
       "316  ['English', 'Bulgarian', 'Czech', 'Danish', 'D...   \n",
       "415  ['English', 'Bulgarian', 'Czech', 'Danish', 'D...   \n",
       "\n",
       "                                                  Tags  Price  ...  \\\n",
       "0    ['Free to Play', 'MOBA', 'Multiplayer', 'Strat...    0.0  ...   \n",
       "102  ['Free to Play', 'MOBA', 'Multiplayer', 'Strat...    0.0  ...   \n",
       "216  ['Free to Play', 'MOBA', 'Multiplayer', 'Strat...    0.0  ...   \n",
       "316  ['Free to Play', 'MOBA', 'Multiplayer', 'Strat...    0.0  ...   \n",
       "415  ['Free to Play', 'MOBA', 'Multiplayer', 'Strat...    0.0  ...   \n",
       "\n",
       "     Historical Building Walking Simulator World War I  Economy  Horror  \\\n",
       "0         False    False             False       False    False   False   \n",
       "102       False    False             False       False    False   False   \n",
       "216       False    False             False       False    False   False   \n",
       "316       False    False             False       False    False   False   \n",
       "415       False    False             False       False    False   False   \n",
       "\n",
       "     Remake  Chinese  Spanish  Arabic  \n",
       "0     False     True     True   False  \n",
       "102   False     True     True   False  \n",
       "216   False     True     True   False  \n",
       "316   False     True     True   False  \n",
       "415   False     True     True   False  \n",
       "\n",
       "[5 rows x 311 columns]"
      ]
     },
     "execution_count": 154,
     "metadata": {},
     "output_type": "execute_result"
    }
   ],
   "source": [
    "#example for 1 game\n",
    "df[df['game_id']==570]"
   ]
  },
  {
   "cell_type": "code",
   "execution_count": 155,
   "metadata": {},
   "outputs": [
    {
     "data": {
      "text/plain": [
       "346110    5\n",
       "4000      5\n",
       "281990    5\n",
       "238960    5\n",
       "236390    5\n",
       "377160    5\n",
       "386360    5\n",
       "236850    5\n",
       "289070    5\n",
       "49520     5\n",
       "381210    5\n",
       "242760    5\n",
       "218620    5\n",
       "8930      5\n",
       "255710    5\n",
       "730       5\n",
       "322330    5\n",
       "221380    5\n",
       "292030    5\n",
       "268500    5\n",
       "105600    5\n",
       "359550    5\n",
       "394360    5\n",
       "252490    5\n",
       "365590    5\n",
       "570       5\n",
       "374320    5\n",
       "252950    5\n",
       "230410    5\n",
       "107410    5\n",
       "         ..\n",
       "611500    1\n",
       "813820    1\n",
       "287700    1\n",
       "371660    1\n",
       "353370    1\n",
       "620       1\n",
       "489940    1\n",
       "838350    1\n",
       "295110    1\n",
       "437220    1\n",
       "392160    1\n",
       "473690    1\n",
       "372000    1\n",
       "363970    1\n",
       "429660    1\n",
       "205100    1\n",
       "581320    1\n",
       "48700     1\n",
       "599140    1\n",
       "337000    1\n",
       "755790    1\n",
       "588430    1\n",
       "589360    1\n",
       "360430    1\n",
       "554620    1\n",
       "373420    1\n",
       "414340    1\n",
       "646910    1\n",
       "298110    1\n",
       "834910    1\n",
       "Name: game_id, Length: 200, dtype: int64"
      ]
     },
     "execution_count": 155,
     "metadata": {},
     "output_type": "execute_result"
    }
   ],
   "source": [
    "# count all duplicates\n",
    "df['game_id'].value_counts()"
   ]
  },
  {
   "cell_type": "markdown",
   "metadata": {},
   "source": [
    "## Data selecting"
   ]
  },
  {
   "cell_type": "code",
   "execution_count": 156,
   "metadata": {},
   "outputs": [],
   "source": [
    "# Select only best sellers for 2018\n",
    "df = df[((df['type'] == 'Platinum') | (df['type'] == 'Gold') | (df['type'] == 'Silver') | (df['type'] == 'Bronze')) & (df['year'] == 2018)]"
   ]
  },
  {
   "cell_type": "code",
   "execution_count": 157,
   "metadata": {},
   "outputs": [
    {
     "data": {
      "text/plain": [
       "100"
      ]
     },
     "execution_count": 157,
     "metadata": {},
     "output_type": "execute_result"
    }
   ],
   "source": [
    "len(df)"
   ]
  },
  {
   "cell_type": "code",
   "execution_count": 158,
   "metadata": {},
   "outputs": [
    {
     "data": {
      "text/html": [
       "<div>\n",
       "<style scoped>\n",
       "    .dataframe tbody tr th:only-of-type {\n",
       "        vertical-align: middle;\n",
       "    }\n",
       "\n",
       "    .dataframe tbody tr th {\n",
       "        vertical-align: top;\n",
       "    }\n",
       "\n",
       "    .dataframe thead th {\n",
       "        text-align: right;\n",
       "    }\n",
       "</style>\n",
       "<table border=\"1\" class=\"dataframe\">\n",
       "  <thead>\n",
       "    <tr style=\"text-align: right;\">\n",
       "      <th></th>\n",
       "      <th>game_id</th>\n",
       "      <th>Name</th>\n",
       "      <th>year</th>\n",
       "      <th>type</th>\n",
       "      <th>User_review</th>\n",
       "      <th>Number of reviews</th>\n",
       "      <th>Release_date</th>\n",
       "      <th>Language</th>\n",
       "      <th>Tags</th>\n",
       "      <th>Price</th>\n",
       "      <th>...</th>\n",
       "      <th>Historical</th>\n",
       "      <th>Building</th>\n",
       "      <th>Walking Simulator</th>\n",
       "      <th>World War I</th>\n",
       "      <th>Economy</th>\n",
       "      <th>Horror</th>\n",
       "      <th>Remake</th>\n",
       "      <th>Chinese</th>\n",
       "      <th>Spanish</th>\n",
       "      <th>Arabic</th>\n",
       "    </tr>\n",
       "  </thead>\n",
       "  <tbody>\n",
       "    <tr>\n",
       "      <th>0</th>\n",
       "      <td>570</td>\n",
       "      <td>Dota 2</td>\n",
       "      <td>2018</td>\n",
       "      <td>Platinum</td>\n",
       "      <td>Very Positive</td>\n",
       "      <td>1058771</td>\n",
       "      <td>9 Jul, 2013</td>\n",
       "      <td>['English', 'Bulgarian', 'Czech', 'Danish', 'D...</td>\n",
       "      <td>['Free to Play', 'MOBA', 'Multiplayer', 'Strat...</td>\n",
       "      <td>0.0</td>\n",
       "      <td>...</td>\n",
       "      <td>False</td>\n",
       "      <td>False</td>\n",
       "      <td>False</td>\n",
       "      <td>False</td>\n",
       "      <td>False</td>\n",
       "      <td>False</td>\n",
       "      <td>False</td>\n",
       "      <td>True</td>\n",
       "      <td>True</td>\n",
       "      <td>False</td>\n",
       "    </tr>\n",
       "  </tbody>\n",
       "</table>\n",
       "<p>1 rows × 311 columns</p>\n",
       "</div>"
      ],
      "text/plain": [
       "   game_id    Name  year      type    User_review  Number of reviews  \\\n",
       "0      570  Dota 2  2018  Platinum  Very Positive            1058771   \n",
       "\n",
       "  Release_date                                           Language  \\\n",
       "0  9 Jul, 2013  ['English', 'Bulgarian', 'Czech', 'Danish', 'D...   \n",
       "\n",
       "                                                Tags  Price  ...  Historical  \\\n",
       "0  ['Free to Play', 'MOBA', 'Multiplayer', 'Strat...    0.0  ...       False   \n",
       "\n",
       "  Building Walking Simulator World War I  Economy  Horror  Remake  Chinese  \\\n",
       "0    False             False       False    False   False   False     True   \n",
       "\n",
       "   Spanish  Arabic  \n",
       "0     True   False  \n",
       "\n",
       "[1 rows x 311 columns]"
      ]
     },
     "execution_count": 158,
     "metadata": {},
     "output_type": "execute_result"
    }
   ],
   "source": [
    "df[df['game_id']==570]"
   ]
  },
  {
   "cell_type": "code",
   "execution_count": 159,
   "metadata": {},
   "outputs": [
    {
     "data": {
      "text/plain": [
       "100"
      ]
     },
     "execution_count": 159,
     "metadata": {},
     "output_type": "execute_result"
    }
   ],
   "source": [
    "len(df)"
   ]
  },
  {
   "cell_type": "markdown",
   "metadata": {},
   "source": [
    "## data cleaning"
   ]
  },
  {
   "cell_type": "code",
   "execution_count": 160,
   "metadata": {},
   "outputs": [],
   "source": [
    "# select relevant columns (with the most frequent tags)\n",
    "df=df[['Name','type','User_review','Number of reviews','Release_date','Price','Publisher','Number of languages','System Requirements','Multiplayer','Singleplayer','Action','Co-op','Open World','Adventure','Strategy','Atmospheric','Great Soundtrack','Simulation']]"
   ]
  },
  {
   "cell_type": "code",
   "execution_count": 161,
   "metadata": {},
   "outputs": [
    {
     "data": {
      "text/html": [
       "<div>\n",
       "<style scoped>\n",
       "    .dataframe tbody tr th:only-of-type {\n",
       "        vertical-align: middle;\n",
       "    }\n",
       "\n",
       "    .dataframe tbody tr th {\n",
       "        vertical-align: top;\n",
       "    }\n",
       "\n",
       "    .dataframe thead th {\n",
       "        text-align: right;\n",
       "    }\n",
       "</style>\n",
       "<table border=\"1\" class=\"dataframe\">\n",
       "  <thead>\n",
       "    <tr style=\"text-align: right;\">\n",
       "      <th></th>\n",
       "      <th>Name</th>\n",
       "      <th>type</th>\n",
       "      <th>User_review</th>\n",
       "      <th>Number of reviews</th>\n",
       "      <th>Release_date</th>\n",
       "      <th>Price</th>\n",
       "      <th>Publisher</th>\n",
       "      <th>Number of languages</th>\n",
       "      <th>System Requirements</th>\n",
       "      <th>Multiplayer</th>\n",
       "      <th>Singleplayer</th>\n",
       "      <th>Action</th>\n",
       "      <th>Co-op</th>\n",
       "      <th>Open World</th>\n",
       "      <th>Adventure</th>\n",
       "      <th>Strategy</th>\n",
       "      <th>Atmospheric</th>\n",
       "      <th>Great Soundtrack</th>\n",
       "      <th>Simulation</th>\n",
       "    </tr>\n",
       "  </thead>\n",
       "  <tbody>\n",
       "    <tr>\n",
       "      <th>0</th>\n",
       "      <td>Dota 2</td>\n",
       "      <td>Platinum</td>\n",
       "      <td>Very Positive</td>\n",
       "      <td>1058771</td>\n",
       "      <td>9 Jul, 2013</td>\n",
       "      <td>0.00</td>\n",
       "      <td>Valve</td>\n",
       "      <td>26.0</td>\n",
       "      <td>Minimum:OS: Windows 7 or newerProcessor: Dual ...</td>\n",
       "      <td>True</td>\n",
       "      <td>False</td>\n",
       "      <td>True</td>\n",
       "      <td>True</td>\n",
       "      <td>False</td>\n",
       "      <td>False</td>\n",
       "      <td>True</td>\n",
       "      <td>False</td>\n",
       "      <td>False</td>\n",
       "      <td>True</td>\n",
       "    </tr>\n",
       "    <tr>\n",
       "      <th>1</th>\n",
       "      <td>Sid Meier’s Civilization® VI</td>\n",
       "      <td>Platinum</td>\n",
       "      <td>Mixed</td>\n",
       "      <td>42471</td>\n",
       "      <td>20 Oct, 2016</td>\n",
       "      <td>69.95</td>\n",
       "      <td>2K, Aspyr (Mac), Aspyr (Linux)</td>\n",
       "      <td>12.0</td>\n",
       "      <td>Minimum:Requires a 64-bit processor and operat...</td>\n",
       "      <td>True</td>\n",
       "      <td>True</td>\n",
       "      <td>False</td>\n",
       "      <td>True</td>\n",
       "      <td>False</td>\n",
       "      <td>False</td>\n",
       "      <td>True</td>\n",
       "      <td>True</td>\n",
       "      <td>True</td>\n",
       "      <td>True</td>\n",
       "    </tr>\n",
       "    <tr>\n",
       "      <th>2</th>\n",
       "      <td>Counter-Strike: Global Offensive</td>\n",
       "      <td>Platinum</td>\n",
       "      <td>Very Positive</td>\n",
       "      <td>3304339</td>\n",
       "      <td>21 Aug, 2012</td>\n",
       "      <td>0.00</td>\n",
       "      <td>Valve</td>\n",
       "      <td>25.0</td>\n",
       "      <td>Minimum:OS: Windows® 7/Vista/XPProcessor: Inte...</td>\n",
       "      <td>True</td>\n",
       "      <td>False</td>\n",
       "      <td>True</td>\n",
       "      <td>True</td>\n",
       "      <td>False</td>\n",
       "      <td>False</td>\n",
       "      <td>True</td>\n",
       "      <td>False</td>\n",
       "      <td>False</td>\n",
       "      <td>False</td>\n",
       "    </tr>\n",
       "    <tr>\n",
       "      <th>3</th>\n",
       "      <td>The Elder Scrolls® Online</td>\n",
       "      <td>Platinum</td>\n",
       "      <td>Mostly Positive</td>\n",
       "      <td>41274</td>\n",
       "      <td>4 Apr, 2014</td>\n",
       "      <td>23.90</td>\n",
       "      <td>Bethesda Softworks</td>\n",
       "      <td>3.0</td>\n",
       "      <td>Minimum:OS: Windows 7 64-bitProcessor: Intel® ...</td>\n",
       "      <td>True</td>\n",
       "      <td>True</td>\n",
       "      <td>True</td>\n",
       "      <td>True</td>\n",
       "      <td>True</td>\n",
       "      <td>True</td>\n",
       "      <td>False</td>\n",
       "      <td>True</td>\n",
       "      <td>True</td>\n",
       "      <td>False</td>\n",
       "    </tr>\n",
       "    <tr>\n",
       "      <th>4</th>\n",
       "      <td>Rocket League®</td>\n",
       "      <td>Platinum</td>\n",
       "      <td>Very Positive</td>\n",
       "      <td>215037</td>\n",
       "      <td>7 Jul, 2015</td>\n",
       "      <td>19.00</td>\n",
       "      <td>Psyonix, Inc.</td>\n",
       "      <td>12.0</td>\n",
       "      <td>Minimum:OS: Windows 7 or NewerProcessor: 2.4 G...</td>\n",
       "      <td>True</td>\n",
       "      <td>True</td>\n",
       "      <td>True</td>\n",
       "      <td>True</td>\n",
       "      <td>False</td>\n",
       "      <td>False</td>\n",
       "      <td>False</td>\n",
       "      <td>False</td>\n",
       "      <td>True</td>\n",
       "      <td>False</td>\n",
       "    </tr>\n",
       "  </tbody>\n",
       "</table>\n",
       "</div>"
      ],
      "text/plain": [
       "                               Name      type      User_review  \\\n",
       "0                            Dota 2  Platinum    Very Positive   \n",
       "1      Sid Meier’s Civilization® VI  Platinum            Mixed   \n",
       "2  Counter-Strike: Global Offensive  Platinum    Very Positive   \n",
       "3         The Elder Scrolls® Online  Platinum  Mostly Positive   \n",
       "4                    Rocket League®  Platinum    Very Positive   \n",
       "\n",
       "   Number of reviews  Release_date  Price                       Publisher  \\\n",
       "0            1058771   9 Jul, 2013   0.00                           Valve   \n",
       "1              42471  20 Oct, 2016  69.95  2K, Aspyr (Mac), Aspyr (Linux)   \n",
       "2            3304339  21 Aug, 2012   0.00                           Valve   \n",
       "3              41274   4 Apr, 2014  23.90              Bethesda Softworks   \n",
       "4             215037   7 Jul, 2015  19.00                   Psyonix, Inc.   \n",
       "\n",
       "   Number of languages                                System Requirements  \\\n",
       "0                 26.0  Minimum:OS: Windows 7 or newerProcessor: Dual ...   \n",
       "1                 12.0  Minimum:Requires a 64-bit processor and operat...   \n",
       "2                 25.0  Minimum:OS: Windows® 7/Vista/XPProcessor: Inte...   \n",
       "3                  3.0  Minimum:OS: Windows 7 64-bitProcessor: Intel® ...   \n",
       "4                 12.0  Minimum:OS: Windows 7 or NewerProcessor: 2.4 G...   \n",
       "\n",
       "   Multiplayer  Singleplayer  Action  Co-op  Open World  Adventure  Strategy  \\\n",
       "0         True         False    True   True       False      False      True   \n",
       "1         True          True   False   True       False      False      True   \n",
       "2         True         False    True   True       False      False      True   \n",
       "3         True          True    True   True        True       True     False   \n",
       "4         True          True    True   True       False      False     False   \n",
       "\n",
       "   Atmospheric  Great Soundtrack  Simulation  \n",
       "0        False             False        True  \n",
       "1         True              True        True  \n",
       "2        False             False       False  \n",
       "3         True              True       False  \n",
       "4        False              True       False  "
      ]
     },
     "execution_count": 161,
     "metadata": {},
     "output_type": "execute_result"
    }
   ],
   "source": [
    "df.head()"
   ]
  },
  {
   "cell_type": "code",
   "execution_count": 162,
   "metadata": {},
   "outputs": [
    {
     "data": {
      "text/plain": [
       "Name                   0\n",
       "type                   0\n",
       "User_review            0\n",
       "Number of reviews      0\n",
       "Release_date           0\n",
       "Price                  0\n",
       "Publisher              0\n",
       "Number of languages    0\n",
       "System Requirements    0\n",
       "Multiplayer            0\n",
       "Singleplayer           0\n",
       "Action                 0\n",
       "Co-op                  0\n",
       "Open World             0\n",
       "Adventure              0\n",
       "Strategy               0\n",
       "Atmospheric            0\n",
       "Great Soundtrack       0\n",
       "Simulation             0\n",
       "dtype: int64"
      ]
     },
     "execution_count": 162,
     "metadata": {},
     "output_type": "execute_result"
    }
   ],
   "source": [
    "#Check if NaN values\n",
    "df.isna().sum()"
   ]
  },
  {
   "cell_type": "markdown",
   "metadata": {},
   "source": [
    "### Release date"
   ]
  },
  {
   "cell_type": "code",
   "execution_count": 167,
   "metadata": {},
   "outputs": [],
   "source": [
    "#transform into time series\n",
    "df['Release_date'] = pd.to_datetime(df['Release_date'])"
   ]
  },
  {
   "cell_type": "markdown",
   "metadata": {},
   "source": [
    "### tags"
   ]
  },
  {
   "cell_type": "code",
   "execution_count": 168,
   "metadata": {},
   "outputs": [],
   "source": [
    "# define top tags list\n",
    "tags_list=['Multiplayer','Singleplayer','Action','Co-op','Open World','Adventure','Strategy','Atmospheric','Great Soundtrack','Simulation']"
   ]
  },
  {
   "cell_type": "code",
   "execution_count": 169,
   "metadata": {
    "collapsed": true,
    "jupyter": {
     "outputs_hidden": true
    }
   },
   "outputs": [
    {
     "name": "stderr",
     "output_type": "stream",
     "text": [
      "C:\\Users\\thiba\\Anaconda3\\lib\\site-packages\\ipykernel_launcher.py:2: SettingWithCopyWarning: \n",
      "A value is trying to be set on a copy of a slice from a DataFrame\n",
      "\n",
      "See the caveats in the documentation: http://pandas.pydata.org/pandas-docs/stable/indexing.html#indexing-view-versus-copy\n",
      "  \n",
      "C:\\Users\\thiba\\Anaconda3\\lib\\site-packages\\ipykernel_launcher.py:2: SettingWithCopyWarning: \n",
      "A value is trying to be set on a copy of a slice from a DataFrame\n",
      "\n",
      "See the caveats in the documentation: http://pandas.pydata.org/pandas-docs/stable/indexing.html#indexing-view-versus-copy\n",
      "  \n",
      "C:\\Users\\thiba\\Anaconda3\\lib\\site-packages\\ipykernel_launcher.py:3: SettingWithCopyWarning: \n",
      "A value is trying to be set on a copy of a slice from a DataFrame\n",
      "\n",
      "See the caveats in the documentation: http://pandas.pydata.org/pandas-docs/stable/indexing.html#indexing-view-versus-copy\n",
      "  This is separate from the ipykernel package so we can avoid doing imports until\n",
      "C:\\Users\\thiba\\Anaconda3\\lib\\site-packages\\ipykernel_launcher.py:2: SettingWithCopyWarning: \n",
      "A value is trying to be set on a copy of a slice from a DataFrame\n",
      "\n",
      "See the caveats in the documentation: http://pandas.pydata.org/pandas-docs/stable/indexing.html#indexing-view-versus-copy\n",
      "  \n",
      "C:\\Users\\thiba\\Anaconda3\\lib\\site-packages\\ipykernel_launcher.py:2: SettingWithCopyWarning: \n",
      "A value is trying to be set on a copy of a slice from a DataFrame\n",
      "\n",
      "See the caveats in the documentation: http://pandas.pydata.org/pandas-docs/stable/indexing.html#indexing-view-versus-copy\n",
      "  \n",
      "C:\\Users\\thiba\\Anaconda3\\lib\\site-packages\\ipykernel_launcher.py:3: SettingWithCopyWarning: \n",
      "A value is trying to be set on a copy of a slice from a DataFrame\n",
      "\n",
      "See the caveats in the documentation: http://pandas.pydata.org/pandas-docs/stable/indexing.html#indexing-view-versus-copy\n",
      "  This is separate from the ipykernel package so we can avoid doing imports until\n",
      "C:\\Users\\thiba\\Anaconda3\\lib\\site-packages\\ipykernel_launcher.py:2: SettingWithCopyWarning: \n",
      "A value is trying to be set on a copy of a slice from a DataFrame\n",
      "\n",
      "See the caveats in the documentation: http://pandas.pydata.org/pandas-docs/stable/indexing.html#indexing-view-versus-copy\n",
      "  \n",
      "C:\\Users\\thiba\\Anaconda3\\lib\\site-packages\\ipykernel_launcher.py:2: SettingWithCopyWarning: \n",
      "A value is trying to be set on a copy of a slice from a DataFrame\n",
      "\n",
      "See the caveats in the documentation: http://pandas.pydata.org/pandas-docs/stable/indexing.html#indexing-view-versus-copy\n",
      "  \n",
      "C:\\Users\\thiba\\Anaconda3\\lib\\site-packages\\ipykernel_launcher.py:3: SettingWithCopyWarning: \n",
      "A value is trying to be set on a copy of a slice from a DataFrame\n",
      "\n",
      "See the caveats in the documentation: http://pandas.pydata.org/pandas-docs/stable/indexing.html#indexing-view-versus-copy\n",
      "  This is separate from the ipykernel package so we can avoid doing imports until\n",
      "C:\\Users\\thiba\\Anaconda3\\lib\\site-packages\\ipykernel_launcher.py:2: SettingWithCopyWarning: \n",
      "A value is trying to be set on a copy of a slice from a DataFrame\n",
      "\n",
      "See the caveats in the documentation: http://pandas.pydata.org/pandas-docs/stable/indexing.html#indexing-view-versus-copy\n",
      "  \n",
      "C:\\Users\\thiba\\Anaconda3\\lib\\site-packages\\ipykernel_launcher.py:2: SettingWithCopyWarning: \n",
      "A value is trying to be set on a copy of a slice from a DataFrame\n",
      "\n",
      "See the caveats in the documentation: http://pandas.pydata.org/pandas-docs/stable/indexing.html#indexing-view-versus-copy\n",
      "  \n",
      "C:\\Users\\thiba\\Anaconda3\\lib\\site-packages\\ipykernel_launcher.py:3: SettingWithCopyWarning: \n",
      "A value is trying to be set on a copy of a slice from a DataFrame\n",
      "\n",
      "See the caveats in the documentation: http://pandas.pydata.org/pandas-docs/stable/indexing.html#indexing-view-versus-copy\n",
      "  This is separate from the ipykernel package so we can avoid doing imports until\n",
      "C:\\Users\\thiba\\Anaconda3\\lib\\site-packages\\ipykernel_launcher.py:2: SettingWithCopyWarning: \n",
      "A value is trying to be set on a copy of a slice from a DataFrame\n",
      "\n",
      "See the caveats in the documentation: http://pandas.pydata.org/pandas-docs/stable/indexing.html#indexing-view-versus-copy\n",
      "  \n",
      "C:\\Users\\thiba\\Anaconda3\\lib\\site-packages\\ipykernel_launcher.py:2: SettingWithCopyWarning: \n",
      "A value is trying to be set on a copy of a slice from a DataFrame\n",
      "\n",
      "See the caveats in the documentation: http://pandas.pydata.org/pandas-docs/stable/indexing.html#indexing-view-versus-copy\n",
      "  \n",
      "C:\\Users\\thiba\\Anaconda3\\lib\\site-packages\\ipykernel_launcher.py:3: SettingWithCopyWarning: \n",
      "A value is trying to be set on a copy of a slice from a DataFrame\n",
      "\n",
      "See the caveats in the documentation: http://pandas.pydata.org/pandas-docs/stable/indexing.html#indexing-view-versus-copy\n",
      "  This is separate from the ipykernel package so we can avoid doing imports until\n"
     ]
    }
   ],
   "source": [
    "#replace boolean by numbers\n",
    "for tag in tags_list:\n",
    "    df[tag][df[tag]==True]=1\n",
    "    df[tag][df[tag]==False]=0"
   ]
  },
  {
   "cell_type": "code",
   "execution_count": 170,
   "metadata": {},
   "outputs": [
    {
     "data": {
      "text/html": [
       "<div>\n",
       "<style scoped>\n",
       "    .dataframe tbody tr th:only-of-type {\n",
       "        vertical-align: middle;\n",
       "    }\n",
       "\n",
       "    .dataframe tbody tr th {\n",
       "        vertical-align: top;\n",
       "    }\n",
       "\n",
       "    .dataframe thead th {\n",
       "        text-align: right;\n",
       "    }\n",
       "</style>\n",
       "<table border=\"1\" class=\"dataframe\">\n",
       "  <thead>\n",
       "    <tr style=\"text-align: right;\">\n",
       "      <th></th>\n",
       "      <th>Name</th>\n",
       "      <th>type</th>\n",
       "      <th>User_review</th>\n",
       "      <th>Number of reviews</th>\n",
       "      <th>Release_date</th>\n",
       "      <th>Price</th>\n",
       "      <th>Publisher</th>\n",
       "      <th>Number of languages</th>\n",
       "      <th>System Requirements</th>\n",
       "      <th>Multiplayer</th>\n",
       "      <th>Singleplayer</th>\n",
       "      <th>Action</th>\n",
       "      <th>Co-op</th>\n",
       "      <th>Open World</th>\n",
       "      <th>Adventure</th>\n",
       "      <th>Strategy</th>\n",
       "      <th>Atmospheric</th>\n",
       "      <th>Great Soundtrack</th>\n",
       "      <th>Simulation</th>\n",
       "    </tr>\n",
       "  </thead>\n",
       "  <tbody>\n",
       "    <tr>\n",
       "      <th>0</th>\n",
       "      <td>Dota 2</td>\n",
       "      <td>Platinum</td>\n",
       "      <td>Very Positive</td>\n",
       "      <td>1058771</td>\n",
       "      <td>2013-07-09</td>\n",
       "      <td>0.00</td>\n",
       "      <td>Valve</td>\n",
       "      <td>26.0</td>\n",
       "      <td>Minimum:OS: Windows 7 or newerProcessor: Dual ...</td>\n",
       "      <td>1.0</td>\n",
       "      <td>0.0</td>\n",
       "      <td>1.0</td>\n",
       "      <td>1.0</td>\n",
       "      <td>0.0</td>\n",
       "      <td>0.0</td>\n",
       "      <td>1.0</td>\n",
       "      <td>0.0</td>\n",
       "      <td>0.0</td>\n",
       "      <td>1.0</td>\n",
       "    </tr>\n",
       "    <tr>\n",
       "      <th>1</th>\n",
       "      <td>Sid Meier’s Civilization® VI</td>\n",
       "      <td>Platinum</td>\n",
       "      <td>Mixed</td>\n",
       "      <td>42471</td>\n",
       "      <td>2016-10-20</td>\n",
       "      <td>69.95</td>\n",
       "      <td>2K, Aspyr (Mac), Aspyr (Linux)</td>\n",
       "      <td>12.0</td>\n",
       "      <td>Minimum:Requires a 64-bit processor and operat...</td>\n",
       "      <td>1.0</td>\n",
       "      <td>1.0</td>\n",
       "      <td>0.0</td>\n",
       "      <td>1.0</td>\n",
       "      <td>0.0</td>\n",
       "      <td>0.0</td>\n",
       "      <td>1.0</td>\n",
       "      <td>1.0</td>\n",
       "      <td>1.0</td>\n",
       "      <td>1.0</td>\n",
       "    </tr>\n",
       "    <tr>\n",
       "      <th>2</th>\n",
       "      <td>Counter-Strike: Global Offensive</td>\n",
       "      <td>Platinum</td>\n",
       "      <td>Very Positive</td>\n",
       "      <td>3304339</td>\n",
       "      <td>2012-08-21</td>\n",
       "      <td>0.00</td>\n",
       "      <td>Valve</td>\n",
       "      <td>25.0</td>\n",
       "      <td>Minimum:OS: Windows® 7/Vista/XPProcessor: Inte...</td>\n",
       "      <td>1.0</td>\n",
       "      <td>0.0</td>\n",
       "      <td>1.0</td>\n",
       "      <td>1.0</td>\n",
       "      <td>0.0</td>\n",
       "      <td>0.0</td>\n",
       "      <td>1.0</td>\n",
       "      <td>0.0</td>\n",
       "      <td>0.0</td>\n",
       "      <td>0.0</td>\n",
       "    </tr>\n",
       "    <tr>\n",
       "      <th>3</th>\n",
       "      <td>The Elder Scrolls® Online</td>\n",
       "      <td>Platinum</td>\n",
       "      <td>Mostly Positive</td>\n",
       "      <td>41274</td>\n",
       "      <td>2014-04-04</td>\n",
       "      <td>23.90</td>\n",
       "      <td>Bethesda Softworks</td>\n",
       "      <td>3.0</td>\n",
       "      <td>Minimum:OS: Windows 7 64-bitProcessor: Intel® ...</td>\n",
       "      <td>1.0</td>\n",
       "      <td>1.0</td>\n",
       "      <td>1.0</td>\n",
       "      <td>1.0</td>\n",
       "      <td>1.0</td>\n",
       "      <td>1.0</td>\n",
       "      <td>0.0</td>\n",
       "      <td>1.0</td>\n",
       "      <td>1.0</td>\n",
       "      <td>0.0</td>\n",
       "    </tr>\n",
       "    <tr>\n",
       "      <th>4</th>\n",
       "      <td>Rocket League®</td>\n",
       "      <td>Platinum</td>\n",
       "      <td>Very Positive</td>\n",
       "      <td>215037</td>\n",
       "      <td>2015-07-07</td>\n",
       "      <td>19.00</td>\n",
       "      <td>Psyonix, Inc.</td>\n",
       "      <td>12.0</td>\n",
       "      <td>Minimum:OS: Windows 7 or NewerProcessor: 2.4 G...</td>\n",
       "      <td>1.0</td>\n",
       "      <td>1.0</td>\n",
       "      <td>1.0</td>\n",
       "      <td>1.0</td>\n",
       "      <td>0.0</td>\n",
       "      <td>0.0</td>\n",
       "      <td>0.0</td>\n",
       "      <td>0.0</td>\n",
       "      <td>1.0</td>\n",
       "      <td>0.0</td>\n",
       "    </tr>\n",
       "  </tbody>\n",
       "</table>\n",
       "</div>"
      ],
      "text/plain": [
       "                               Name      type      User_review  \\\n",
       "0                            Dota 2  Platinum    Very Positive   \n",
       "1      Sid Meier’s Civilization® VI  Platinum            Mixed   \n",
       "2  Counter-Strike: Global Offensive  Platinum    Very Positive   \n",
       "3         The Elder Scrolls® Online  Platinum  Mostly Positive   \n",
       "4                    Rocket League®  Platinum    Very Positive   \n",
       "\n",
       "   Number of reviews Release_date  Price                       Publisher  \\\n",
       "0            1058771   2013-07-09   0.00                           Valve   \n",
       "1              42471   2016-10-20  69.95  2K, Aspyr (Mac), Aspyr (Linux)   \n",
       "2            3304339   2012-08-21   0.00                           Valve   \n",
       "3              41274   2014-04-04  23.90              Bethesda Softworks   \n",
       "4             215037   2015-07-07  19.00                   Psyonix, Inc.   \n",
       "\n",
       "   Number of languages                                System Requirements  \\\n",
       "0                 26.0  Minimum:OS: Windows 7 or newerProcessor: Dual ...   \n",
       "1                 12.0  Minimum:Requires a 64-bit processor and operat...   \n",
       "2                 25.0  Minimum:OS: Windows® 7/Vista/XPProcessor: Inte...   \n",
       "3                  3.0  Minimum:OS: Windows 7 64-bitProcessor: Intel® ...   \n",
       "4                 12.0  Minimum:OS: Windows 7 or NewerProcessor: 2.4 G...   \n",
       "\n",
       "   Multiplayer  Singleplayer  Action  Co-op  Open World  Adventure  Strategy  \\\n",
       "0          1.0           0.0     1.0    1.0         0.0        0.0       1.0   \n",
       "1          1.0           1.0     0.0    1.0         0.0        0.0       1.0   \n",
       "2          1.0           0.0     1.0    1.0         0.0        0.0       1.0   \n",
       "3          1.0           1.0     1.0    1.0         1.0        1.0       0.0   \n",
       "4          1.0           1.0     1.0    1.0         0.0        0.0       0.0   \n",
       "\n",
       "   Atmospheric  Great Soundtrack  Simulation  \n",
       "0          0.0               0.0         1.0  \n",
       "1          1.0               1.0         1.0  \n",
       "2          0.0               0.0         0.0  \n",
       "3          1.0               1.0         0.0  \n",
       "4          0.0               1.0         0.0  "
      ]
     },
     "execution_count": 170,
     "metadata": {},
     "output_type": "execute_result"
    }
   ],
   "source": [
    "df.head()"
   ]
  },
  {
   "cell_type": "markdown",
   "metadata": {},
   "source": [
    "## Plotting"
   ]
  },
  {
   "cell_type": "markdown",
   "metadata": {},
   "source": [
    "### continuous plot"
   ]
  },
  {
   "cell_type": "code",
   "execution_count": 172,
   "metadata": {},
   "outputs": [
    {
     "data": {
      "image/png": "[encoded data removed]",
      "text/plain": [
       "<Figure size 936x648 with 1 Axes>"
      ]
     },
     "metadata": {
      "needs_background": "light"
     },
     "output_type": "display_data"
    }
   ],
   "source": [
    "# plot the price vs release date\n",
    "df_ts['Price'].plot()\n",
    "plt.show()"
   ]
  },
  {
   "cell_type": "code",
   "execution_count": 173,
   "metadata": {},
   "outputs": [
    {
     "data": {
      "text/plain": [
       "['Platinum', 'Gold', 'Silver', 'Bronze']"
      ]
     },
     "execution_count": 173,
     "metadata": {},
     "output_type": "execute_result"
    }
   ],
   "source": [
    "# class\n",
    "types=list(df['type'].unique())\n",
    "types"
   ]
  },
  {
   "cell_type": "code",
   "execution_count": 349,
   "metadata": {},
   "outputs": [],
   "source": [
    "# plot the price vs release date\n",
    "colors=['blue','goldenrod','grey','brown']"
   ]
  },
  {
   "cell_type": "code",
   "execution_count": 222,
   "metadata": {},
   "outputs": [],
   "source": [
    "# set fifure size\n",
    "from pylab import rcParams\n",
    "rcParams['figure.figsize'] = 13, 9"
   ]
  },
  {
   "cell_type": "markdown",
   "metadata": {},
   "source": [
    "### Scatter plot"
   ]
  },
  {
   "cell_type": "code",
   "execution_count": 350,
   "metadata": {},
   "outputs": [
    {
     "data": {
      "image/png": "[encoded data removed]",
      "text/plain": [
       "<Figure size 936x648 with 1 Axes>"
      ]
     },
     "metadata": {
      "needs_background": "light"
     },
     "output_type": "display_data"
    }
   ],
   "source": [
    "# scatterplot the price vs release date for the different classes\n",
    "for i in range(len(types)):\n",
    "    plt.scatter(x=df[df['type']==types[i]]['Release_date'], y=df[df['type']==types[i]]['Price'], label=types[i], s=50, color=colors[i], alpha = 1)\n",
    "plt.legend(loc='upper left',prop={'size': 14})\n",
    "plt.ylabel(\"Price (CHF)\",fontsize=13)\n",
    "plt.xlabel(\"Release date\",fontsize=13)\n",
    "plt.xticks(fontsize=13)\n",
    "plt.yticks(fontsize=13)\n",
    "plt.show()"
   ]
  },
  {
   "cell_type": "code",
   "execution_count": 351,
   "metadata": {},
   "outputs": [
    {
     "data": {
      "image/png": "[encoded data removed]",
      "text/plain": [
       "<Figure size 936x648 with 1 Axes>"
      ]
     },
     "metadata": {
      "needs_background": "light"
     },
     "output_type": "display_data"
    }
   ],
   "source": [
    "#scatterplot the number of languages vs release date for the different classes\n",
    "for i in range(len(types)):\n",
    "    plt.scatter(x=df[df['type']==types[i]]['Release_date'], y=df[df['type']==types[i]]['Number of languages'], label=types[i], s=50, color=colors[i], alpha = 1)\n",
    "plt.legend(loc='lower left',prop={'size': 14})\n",
    "plt.ylabel(\"Number of languages\",fontsize=13)\n",
    "plt.xlabel(\"Release date\",fontsize=13)\n",
    "plt.xticks(fontsize=13)\n",
    "plt.yticks(fontsize=13)\n",
    "plt.show()"
   ]
  },
  {
   "cell_type": "code",
   "execution_count": 227,
   "metadata": {},
   "outputs": [
    {
     "data": {
      "text/plain": [
       "'Euro Truck Simulator 2'"
      ]
     },
     "execution_count": 227,
     "metadata": {},
     "output_type": "execute_result"
    }
   ],
   "source": [
    "#find the most expensive game\n",
    "most_expensive_game=df.nlargest(1,'Price')['Name'].values\n",
    "most_expensive_game=most_expensive_game[0]\n",
    "most_expensive_game"
   ]
  },
  {
   "cell_type": "code",
   "execution_count": 228,
   "metadata": {},
   "outputs": [
    {
     "data": {
      "text/html": [
       "<div>\n",
       "<style scoped>\n",
       "    .dataframe tbody tr th:only-of-type {\n",
       "        vertical-align: middle;\n",
       "    }\n",
       "\n",
       "    .dataframe tbody tr th {\n",
       "        vertical-align: top;\n",
       "    }\n",
       "\n",
       "    .dataframe thead th {\n",
       "        text-align: right;\n",
       "    }\n",
       "</style>\n",
       "<table border=\"1\" class=\"dataframe\">\n",
       "  <thead>\n",
       "    <tr style=\"text-align: right;\">\n",
       "      <th></th>\n",
       "      <th>Name</th>\n",
       "      <th>type</th>\n",
       "      <th>User_review</th>\n",
       "      <th>Number of reviews</th>\n",
       "      <th>Release_date</th>\n",
       "      <th>Price</th>\n",
       "      <th>Publisher</th>\n",
       "      <th>Number of languages</th>\n",
       "      <th>System Requirements</th>\n",
       "      <th>Multiplayer</th>\n",
       "      <th>Singleplayer</th>\n",
       "      <th>Action</th>\n",
       "      <th>Co-op</th>\n",
       "      <th>Open World</th>\n",
       "      <th>Adventure</th>\n",
       "      <th>Strategy</th>\n",
       "      <th>Atmospheric</th>\n",
       "      <th>Great Soundtrack</th>\n",
       "      <th>Simulation</th>\n",
       "    </tr>\n",
       "  </thead>\n",
       "  <tbody>\n",
       "    <tr>\n",
       "      <th>24</th>\n",
       "      <td>Euro Truck Simulator 2</td>\n",
       "      <td>Silver</td>\n",
       "      <td>Overwhelmingly Positive</td>\n",
       "      <td>147538</td>\n",
       "      <td>2012-10-12</td>\n",
       "      <td>85.0</td>\n",
       "      <td>SCS Software</td>\n",
       "      <td>24.0</td>\n",
       "      <td>Minimum:OS: Windows 7Processor: Dual core CPU ...</td>\n",
       "      <td>0.0</td>\n",
       "      <td>1.0</td>\n",
       "      <td>1.0</td>\n",
       "      <td>0.0</td>\n",
       "      <td>1.0</td>\n",
       "      <td>1.0</td>\n",
       "      <td>0.0</td>\n",
       "      <td>1.0</td>\n",
       "      <td>0.0</td>\n",
       "      <td>1.0</td>\n",
       "    </tr>\n",
       "  </tbody>\n",
       "</table>\n",
       "</div>"
      ],
      "text/plain": [
       "                      Name    type              User_review  \\\n",
       "24  Euro Truck Simulator 2  Silver  Overwhelmingly Positive   \n",
       "\n",
       "    Number of reviews Release_date  Price     Publisher  Number of languages  \\\n",
       "24             147538   2012-10-12   85.0  SCS Software                 24.0   \n",
       "\n",
       "                                  System Requirements  Multiplayer  \\\n",
       "24  Minimum:OS: Windows 7Processor: Dual core CPU ...          0.0   \n",
       "\n",
       "    Singleplayer  Action  Co-op  Open World  Adventure  Strategy  Atmospheric  \\\n",
       "24           1.0     1.0    0.0         1.0        1.0       0.0          1.0   \n",
       "\n",
       "    Great Soundtrack  Simulation  \n",
       "24               0.0         1.0  "
      ]
     },
     "execution_count": 228,
     "metadata": {},
     "output_type": "execute_result"
    }
   ],
   "source": [
    "df[df['Name']=='Euro Truck Simulator 2']"
   ]
  },
  {
   "cell_type": "code",
   "execution_count": 365,
   "metadata": {},
   "outputs": [
    {
     "data": {
      "image/png": "[encoded data removed]",
      "text/plain": [
       "<Figure size 936x648 with 1 Axes>"
      ]
     },
     "metadata": {
      "needs_background": "light"
     },
     "output_type": "display_data"
    },
    {
     "data": {
      "text/plain": [
       "<Figure size 936x648 with 0 Axes>"
      ]
     },
     "metadata": {},
     "output_type": "display_data"
    }
   ],
   "source": [
    "#scatterplot the price vs release date for the different classes with dots proportional with the number of reviews\n",
    "for i in range(len(types)):\n",
    "    plt.scatter(x=df[df['type']==types[i]]['Release_date'], y=df[df['type']==types[i]]['Price'], label=types[i], s=15, color=colors[i], alpha = 0.5)\n",
    "for j in range(len(types)):\n",
    "    classtype=df[df['type']==types[j]]\n",
    "    xx=classtype['Release_date'].values\n",
    "    yy=classtype['Price'].values\n",
    "    zz=classtype['Number of reviews'].values\n",
    "    color=colors[j]\n",
    "    for k in range(len(yy)):\n",
    "        size=zz[k]/1000\n",
    "        plt.scatter(x=xx[k], y=yy[k], color=color, s=size, alpha = 0.7)\n",
    "# add legend for size of dot proportional to number of reviews\n",
    "plt.scatter(x=datetime(2005,8,1),y=65,color='grey', s=1200, alpha = 0.1)\n",
    "plt.text(x=datetime(2006,1,1),y=64, s='nb reviews = 3 million ', fontsize=12, color='black', rotation=0)\n",
    "plt.scatter(x=datetime(2005,8,1),y=60,color='grey', s=400, alpha = 0.1)\n",
    "plt.text(x=datetime(2006,1,1),y=59, s='nb reviews = 1 million ', fontsize=12, color='black', rotation=0)\n",
    "plt.scatter(x=datetime(2005,8,1),y=55,color='grey', s=100, alpha = 0.1)\n",
    "plt.text(x=datetime(2006,1,1),y=54, s='nb reviews = 100k ', fontsize=12, color='black', rotation=0)\n",
    "# Add a legend and display the plots\n",
    "plt.text(x=datetime(2012,1,1),y=80, s=most_expensive_game, fontsize=12, color='black', rotation=0)\n",
    "plt.text(x=datetime(2010,2,1),y=0, s='Counter-Strike', fontsize=12, color='black', rotation=0)\n",
    "plt.text(x=datetime(2014,1,1),y=0, s='Dota 2', fontsize=12, color='black', rotation=0)\n",
    "plt.grid(ls='--',alpha=0.4)\n",
    "plt.ylabel(\"Price (CHF)\",fontsize=14)\n",
    "plt.xlabel(\"Release_date\",fontsize=14)\n",
    "plt.xticks(fontsize=13)\n",
    "plt.yticks(fontsize=13)\n",
    "plt.legend(loc='upper left',prop={'size': 16})\n",
    "plt.show()\n",
    "plt.savefig(\"Fig1\")"
   ]
  },
  {
   "cell_type": "code",
   "execution_count": 232,
   "metadata": {
    "collapsed": true,
    "jupyter": {
     "outputs_hidden": true
    }
   },
   "outputs": [
    {
     "data": {
      "text/plain": [
       "Ubisoft                                                            9\n",
       "Paradox Interactive                                                7\n",
       "Valve                                                              5\n",
       "Square Enix                                                        4\n",
       "BANDAI NAMCO Entertainment                                         4\n",
       "2K, Aspyr (Mac), Aspyr (Linux)                                     3\n",
       "SEGA                                                               3\n",
       "Bethesda Softworks                                                 3\n",
       "Hi-Rez Studios                                                     2\n",
       "2K                                                                 2\n",
       "Focus Home Interactive                                             2\n",
       "Frontier Developments                                              2\n",
       "SEGA, Feral Interactive (Mac), Feral Interactive (Linux)           2\n",
       "WB Games                                                           1\n",
       "Activision                                                         1\n",
       "SCS Software                                                       1\n",
       "Curve Digital                                                      1\n",
       "FromSoftware, Inc, BANDAI NAMCO Entertainment                      1\n",
       "Crytek                                                             1\n",
       "Coffee Stain Publishing                                            1\n",
       "FromSoftware, Inc., BANDAI NAMCO Entertainment                     1\n",
       "Klei Entertainment                                                 1\n",
       "Funcom                                                             1\n",
       "Hello Games                                                        1\n",
       "Starbreeze Publishing AB                                           1\n",
       "NEOWIZ                                                             1\n",
       "Warhorse Studios, Deep Silver                                      1\n",
       "CD PROJEKT RED                                                     1\n",
       "Electronic Arts                                                    1\n",
       "Xbox Game Studios                                                  1\n",
       "                                                                  ..\n",
       "Square Enix, Feral Interactive (Mac), Feral Interactive (Linux)    1\n",
       "Digital Extremes                                                   1\n",
       "Psyonix, Inc.                                                      1\n",
       "Behaviour Digital Inc.                                             1\n",
       "Gaijin Entertainment                                               1\n",
       "11 bit studios                                                     1\n",
       "Ludeon Studios                                                     1\n",
       "Grinding Gear Games                                                1\n",
       "Larian Studios                                                     1\n",
       "Devolver Digital                                                   1\n",
       "Rebellion                                                          1\n",
       "Wube Software LTD.                                                 1\n",
       "PUBG Corporation                                                   1\n",
       "Versus Evil, Obsidian Entertainment                                1\n",
       "Fatshark                                                           1\n",
       "Mega Crit Games                                                    1\n",
       "Techland Publishing                                                1\n",
       "Re-Logic                                                           1\n",
       "Studio Wildcard                                                    1\n",
       "Axolot Games                                                       1\n",
       "Rockstar Games                                                     1\n",
       "Red Hook Studios                                                   1\n",
       "Kakao Games Europe B.V.                                            1\n",
       "Endnight Games Ltd                                                 1\n",
       "CAPCOM Co., Ltd.                                                   1\n",
       "Avalanche Studios                                                  1\n",
       "ConcernedApe                                                       1\n",
       "Bohemia Interactive                                                1\n",
       "Numantian Games                                                    1\n",
       "Unknown Worlds Entertainment                                       1\n",
       "Name: Publisher, Length: 65, dtype: int64"
      ]
     },
     "execution_count": 232,
     "metadata": {},
     "output_type": "execute_result"
    }
   ],
   "source": [
    "df['Publisher'].value_counts()"
   ]
  },
  {
   "cell_type": "code",
   "execution_count": 244,
   "metadata": {},
   "outputs": [
    {
     "data": {
      "text/plain": [
       "['Platinum', 'Gold']"
      ]
     },
     "execution_count": 244,
     "metadata": {},
     "output_type": "execute_result"
    }
   ],
   "source": [
    "types_gold_platinum=types[:2]\n",
    "types_gold_platinum"
   ]
  },
  {
   "cell_type": "code",
   "execution_count": 371,
   "metadata": {},
   "outputs": [
    {
     "data": {
      "image/png": "[encoded data removed]",
      "text/plain": [
       "<Figure size 936x648 with 1 Axes>"
      ]
     },
     "metadata": {
      "needs_background": "light"
     },
     "output_type": "display_data"
    },
    {
     "data": {
      "text/plain": [
       "<Figure size 936x648 with 0 Axes>"
      ]
     },
     "metadata": {},
     "output_type": "display_data"
    }
   ],
   "source": [
    "#scatterplot the price vs release date for the different 2 classes (platinum and gold) with different markers for the different publishers\n",
    "for i in range(len(types_gold_platinum)):\n",
    "    plt.scatter(x=df[df['type']==types_gold_platinum[i]]['Release_date'], y=df[df['type']==types_gold_platinum[i]]['Price'], label=types_gold_platinum[i], s=40, color=colors[i], alpha = 1)\n",
    "for j in range(len(types_gold_platinum)):\n",
    "    classtype=df[df['type']==types_gold_platinum[j]]\n",
    "    xx=classtype['Release_date'].values\n",
    "    yy=classtype['Price'].values\n",
    "    zz=classtype['Publisher'].values\n",
    "    color=colors[j]\n",
    "    for k in range(len(yy)):\n",
    "        if zz[k]=='Ubisoft':\n",
    "            plt.scatter(x=xx[k], y=yy[k], color=color, s=200, marker='*', alpha = 1)\n",
    "        elif zz[k]=='Paradox Interactive':\n",
    "            plt.scatter(x=xx[k], y=yy[k], color=color, s=200, marker='^', alpha = 1)\n",
    "        elif zz[k]=='Valve':\n",
    "            plt.scatter(x=xx[k], y=yy[k], color=color, s=200, marker='s', alpha = 1)\n",
    "        else:\n",
    "            plt.scatter(x=xx[k], y=yy[k], color=color, s=200, marker='.', alpha = 1)\n",
    "# add legend for publisher\n",
    "plt.scatter(x=datetime(2012,5,1),y=62,color='grey', marker='*', s=300, alpha = 0.2)\n",
    "plt.text(x=datetime(2012,7,1),y=61, s='Ubisoft', fontsize=14, color='black', rotation=0)\n",
    "plt.scatter(x=datetime(2012,5,1),y=58,color='grey', marker='^', s=300, alpha = 0.2)\n",
    "plt.text(x=datetime(2012,7,1),y=57, s='Paradox Interactive', fontsize=14, color='black', rotation=0)\n",
    "plt.scatter(x=datetime(2012,5,1),y=53,color='grey', marker='s', s=300, alpha = 0.2)\n",
    "plt.text(x=datetime(2012,7,1),y=52, s='Valve', fontsize=14, color='black', rotation=0)\n",
    "# Add a legend and display the plots\n",
    "plt.grid(ls='--',alpha=0.4)\n",
    "plt.ylabel(\"Price (CHF)\",fontsize=14)\n",
    "plt.xlabel(\"Release_date\",fontsize=14)\n",
    "plt.xticks(fontsize=13)\n",
    "plt.yticks(fontsize=13)\n",
    "plt.legend(loc='upper left',prop={'size': 16})\n",
    "plt.show()\n",
    "plt.savefig(\"Fig2\")"
   ]
  },
  {
   "cell_type": "code",
   "execution_count": 409,
   "metadata": {},
   "outputs": [],
   "source": [
    "#set arrow properties\n",
    "arrow_properties = dict(\n",
    "    facecolor=\"black\", width=0.5,\n",
    "    headwidth=9, shrink=0.1)"
   ]
  },
  {
   "cell_type": "code",
   "execution_count": 425,
   "metadata": {},
   "outputs": [
    {
     "data": {
      "image/png": "[encoded data removed]",
      "text/plain": [
       "<Figure size 936x648 with 1 Axes>"
      ]
     },
     "metadata": {
      "needs_background": "light"
     },
     "output_type": "display_data"
    },
    {
     "data": {
      "text/plain": [
       "<Figure size 936x648 with 0 Axes>"
      ]
     },
     "metadata": {},
     "output_type": "display_data"
    }
   ],
   "source": [
    "# plots\n",
    "for i in range(len(types_gold_platinum)):\n",
    "    plt.scatter(x=df[df['type']==types_gold_platinum[i]]['Release_date'], y=df[df['type']==types_gold_platinum[i]]['Price'], label=types[i], s=17, color=colors[i], alpha = 0.5)\n",
    "for j in range(len(types_gold_platinum)):\n",
    "    classtype=df[df['type']==types_gold_platinum[j]]\n",
    "    xx=classtype['Release_date'].values\n",
    "    yy=classtype['Price'].values\n",
    "    zz=classtype['Number of reviews'].values\n",
    "    color=colors[j]\n",
    "    for k in range(len(yy)):\n",
    "        size=zz[k]/1000\n",
    "        plt.scatter(x=xx[k], y=yy[k], color=color, s=size, alpha = 0.7)\n",
    "# add legend for size of dot proportional to number of reviews\n",
    "plt.scatter(x=datetime(2012,5,1),y=62,color='grey', s=1000, alpha = 0.1)\n",
    "plt.text(x=datetime(2012,7,1),y=61, s='nb reviews > 3 million ', fontsize=12, color='black', rotation=0)\n",
    "plt.scatter(x=datetime(2012,5,1),y=58,color='grey', s=400, alpha = 0.1)\n",
    "plt.text(x=datetime(2012,7,1),y=57, s='nb reviews > 1 million ', fontsize=12, color='black', rotation=0)\n",
    "plt.scatter(x=datetime(2012,5,1),y=54,color='grey', s=100, alpha = 0.1)\n",
    "plt.text(x=datetime(2012,7,1),y=53, s='nb reviews < 100k ', fontsize=12, color='black', rotation=0)\n",
    "#plt.axhspan(20, 40, label=\"Recession in Switzerland\", color=\"crimson\", alpha=0.3)\n",
    "plt.axhspan(18, 42, color=\"green\", alpha=0.2)\n",
    "plt.text(x=datetime(2012,3,1),y=40, s='price range target', fontsize=15, rotation=90)\n",
    "# add special games\n",
    "#plt.text(x=datetime(2014,3,1),y=40, s='PU Battlegrounds', fontsize=15, rotation=90)\n",
    "#plt.text(x=datetime(2013,3,1),y=40, s='GTA V', fontsize=15, rotation=90)\n",
    "plt.annotate(\n",
    "    \"PU Battlegrounds\", xy=(datetime(2018,1,1), 30),\n",
    "    xytext=(datetime(2018,1,1), 20),\n",
    "    arrowprops=arrow_properties,size=11,rotation=0)\n",
    "plt.annotate(\n",
    "    \"GTA V\", xy=(datetime(2015,4,1), 34),\n",
    "    xytext=(datetime(2014,3,1), 33.5),\n",
    "    arrowprops=arrow_properties,size=11,rotation=0)\n",
    "# Add a legend and display the plots\n",
    "plt.grid(ls='--',alpha=0.4)\n",
    "plt.ylabel(\"Price (CHF)\",fontsize=14)\n",
    "plt.xlabel(\"Release_date\",fontsize=14)\n",
    "plt.xticks(fontsize=13)\n",
    "plt.yticks(fontsize=13)\n",
    "plt.legend(loc='upper left',prop={'size': 16})\n",
    "plt.show()\n",
    "plt.savefig(\"Fig3\")"
   ]
  },
  {
   "cell_type": "markdown",
   "metadata": {},
   "source": [
    "### faceting"
   ]
  },
  {
   "cell_type": "code",
   "execution_count": 397,
   "metadata": {},
   "outputs": [
    {
     "data": {
      "image/png": "[encoded data removed]",
      "text/plain": [
       "<Figure size 1440x288 with 4 Axes>"
      ]
     },
     "metadata": {
      "needs_background": "light"
     },
     "output_type": "display_data"
    }
   ],
   "source": [
    "# Facet by class, show price vs release date\n",
    "fig, axs = plt.subplots(1, 4, figsize=(20, 4), sharex=True, sharey=True)\n",
    "index = 0\n",
    "for typ in types:\n",
    "    ax = axs[index]\n",
    "    ax.plot(df[df['type']==typ]['Release_date'], df[df['type']==typ]['Price'], marker='.', linestyle='', ms=12, label=typ)\n",
    "    #ax.set_xlim([1, 8])\n",
    "    ax.set_xlim([datetime(2020,1,1), datetime(2007,1,1)])\n",
    "    ax.set_title(typ)\n",
    "    index += 1"
   ]
  },
  {
   "cell_type": "code",
   "execution_count": 444,
   "metadata": {},
   "outputs": [
    {
     "data": {
      "image/png": "[encoded data removed]",
      "text/plain": [
       "<Figure size 1440x288 with 4 Axes>"
      ]
     },
     "metadata": {
      "needs_background": "light"
     },
     "output_type": "display_data"
    }
   ],
   "source": [
    "# Facet by class, number of reviews vs release date\n",
    "fig, axs = plt.subplots(1, 4, figsize=(20, 4), sharex=True, sharey=True)\n",
    "index = 0\n",
    "groups\n",
    "for typ in types:\n",
    "    ax = axs[index]\n",
    "    ax.plot(df[df['type']==typ]['Release_date'], df[df['type']==typ]['Number of reviews'], marker='.', linestyle='', ms=12, label=typ)\n",
    "    #ax.set_xlim([1, 8])\n",
    "    #ax.set_ylim([10, 50])\n",
    "    ax.set_title(typ)\n",
    "    index += 1"
   ]
  },
  {
   "cell_type": "code",
   "execution_count": 320,
   "metadata": {},
   "outputs": [
    {
     "data": {
      "text/html": [
       "<div>\n",
       "<style scoped>\n",
       "    .dataframe tbody tr th:only-of-type {\n",
       "        vertical-align: middle;\n",
       "    }\n",
       "\n",
       "    .dataframe tbody tr th {\n",
       "        vertical-align: top;\n",
       "    }\n",
       "\n",
       "    .dataframe thead th {\n",
       "        text-align: right;\n",
       "    }\n",
       "</style>\n",
       "<table border=\"1\" class=\"dataframe\">\n",
       "  <thead>\n",
       "    <tr style=\"text-align: right;\">\n",
       "      <th></th>\n",
       "      <th>Name</th>\n",
       "      <th>type</th>\n",
       "      <th>User_review</th>\n",
       "      <th>Number of reviews</th>\n",
       "      <th>Release_date</th>\n",
       "      <th>Price</th>\n",
       "      <th>Publisher</th>\n",
       "      <th>Number of languages</th>\n",
       "      <th>System Requirements</th>\n",
       "      <th>Multiplayer</th>\n",
       "      <th>Singleplayer</th>\n",
       "      <th>Action</th>\n",
       "      <th>Co-op</th>\n",
       "      <th>Open World</th>\n",
       "      <th>processor_min</th>\n",
       "      <th>ram_min</th>\n",
       "      <th>graph_min</th>\n",
       "    </tr>\n",
       "  </thead>\n",
       "  <tbody>\n",
       "    <tr>\n",
       "      <th>24</th>\n",
       "      <td>Euro Truck Simulator 2</td>\n",
       "      <td>Silver</td>\n",
       "      <td>Overwhelmingly Positive</td>\n",
       "      <td>147538</td>\n",
       "      <td>2012-10-12</td>\n",
       "      <td>85.0</td>\n",
       "      <td>SCS Software</td>\n",
       "      <td>24.0</td>\n",
       "      <td>Minimum:OS: Windows 7Processor: Dual core CPU ...</td>\n",
       "      <td>False</td>\n",
       "      <td>True</td>\n",
       "      <td>True</td>\n",
       "      <td>False</td>\n",
       "      <td>True</td>\n",
       "      <td>Dual core CPU 2.4 GHzMemory</td>\n",
       "      <td>4 GB RAM</td>\n",
       "      <td>GeForce GTS 450-class (Intel HD 4000)Hard Drive</td>\n",
       "    </tr>\n",
       "  </tbody>\n",
       "</table>\n",
       "</div>"
      ],
      "text/plain": [
       "                      Name    type              User_review  \\\n",
       "24  Euro Truck Simulator 2  Silver  Overwhelmingly Positive   \n",
       "\n",
       "    Number of reviews Release_date  Price     Publisher  Number of languages  \\\n",
       "24             147538   2012-10-12   85.0  SCS Software                 24.0   \n",
       "\n",
       "                                  System Requirements  Multiplayer  \\\n",
       "24  Minimum:OS: Windows 7Processor: Dual core CPU ...        False   \n",
       "\n",
       "    Singleplayer  Action  Co-op  Open World                 processor_min  \\\n",
       "24          True    True  False        True   Dual core CPU 2.4 GHzMemory   \n",
       "\n",
       "     ram_min                                         graph_min  \n",
       "24  4 GB RAM   GeForce GTS 450-class (Intel HD 4000)Hard Drive  "
      ]
     },
     "execution_count": 320,
     "metadata": {},
     "output_type": "execute_result"
    }
   ],
   "source": [
    "df.nlargest(1,'Price')"
   ]
  },
  {
   "cell_type": "code",
   "execution_count": 330,
   "metadata": {},
   "outputs": [
    {
     "data": {
      "text/html": [
       "<div>\n",
       "<style scoped>\n",
       "    .dataframe tbody tr th:only-of-type {\n",
       "        vertical-align: middle;\n",
       "    }\n",
       "\n",
       "    .dataframe tbody tr th {\n",
       "        vertical-align: top;\n",
       "    }\n",
       "\n",
       "    .dataframe thead th {\n",
       "        text-align: right;\n",
       "    }\n",
       "</style>\n",
       "<table border=\"1\" class=\"dataframe\">\n",
       "  <thead>\n",
       "    <tr style=\"text-align: right;\">\n",
       "      <th></th>\n",
       "      <th>Name</th>\n",
       "      <th>type</th>\n",
       "      <th>User_review</th>\n",
       "      <th>Number of reviews</th>\n",
       "      <th>Release_date</th>\n",
       "      <th>Price</th>\n",
       "      <th>Publisher</th>\n",
       "      <th>Number of languages</th>\n",
       "      <th>System Requirements</th>\n",
       "      <th>Multiplayer</th>\n",
       "      <th>Singleplayer</th>\n",
       "      <th>Action</th>\n",
       "      <th>Co-op</th>\n",
       "      <th>Open World</th>\n",
       "      <th>processor_min</th>\n",
       "      <th>ram_min</th>\n",
       "      <th>graph_min</th>\n",
       "    </tr>\n",
       "  </thead>\n",
       "  <tbody>\n",
       "    <tr>\n",
       "      <th>2</th>\n",
       "      <td>Counter-Strike: Global Offensive</td>\n",
       "      <td>Platinum</td>\n",
       "      <td>Very Positive</td>\n",
       "      <td>3304339</td>\n",
       "      <td>2012-08-21</td>\n",
       "      <td>0.0</td>\n",
       "      <td>Valve</td>\n",
       "      <td>25.0</td>\n",
       "      <td>Minimum:OS: Windows® 7/Vista/XPProcessor: Inte...</td>\n",
       "      <td>True</td>\n",
       "      <td>False</td>\n",
       "      <td>True</td>\n",
       "      <td>True</td>\n",
       "      <td>False</td>\n",
       "      <td>intel Core i2</td>\n",
       "      <td>2 GB RAM</td>\n",
       "      <td>Video card must be 256 MB or more and should ...</td>\n",
       "    </tr>\n",
       "  </tbody>\n",
       "</table>\n",
       "</div>"
      ],
      "text/plain": [
       "                               Name      type    User_review  \\\n",
       "2  Counter-Strike: Global Offensive  Platinum  Very Positive   \n",
       "\n",
       "   Number of reviews Release_date  Price Publisher  Number of languages  \\\n",
       "2            3304339   2012-08-21    0.0     Valve                 25.0   \n",
       "\n",
       "                                 System Requirements  Multiplayer  \\\n",
       "2  Minimum:OS: Windows® 7/Vista/XPProcessor: Inte...         True   \n",
       "\n",
       "   Singleplayer  Action  Co-op  Open World  processor_min   ram_min  \\\n",
       "2         False    True   True       False  intel Core i2  2 GB RAM   \n",
       "\n",
       "                                           graph_min  \n",
       "2   Video card must be 256 MB or more and should ...  "
      ]
     },
     "execution_count": 330,
     "metadata": {},
     "output_type": "execute_result"
    }
   ],
   "source": [
    "#game with the most reviews\n",
    "df.nlargest(1,'Number of reviews')"
   ]
  },
  {
   "cell_type": "code",
   "execution_count": 328,
   "metadata": {},
   "outputs": [
    {
     "data": {
      "text/plain": [
       "'Counter-Strike: Global Offensive'"
      ]
     },
     "execution_count": 328,
     "metadata": {},
     "output_type": "execute_result"
    }
   ],
   "source": [
    "most_reviewed_game=df.nlargest(1,'Number of reviews')['Name'].values\n",
    "most_reviewed_game=most_reviewed_game[0]\n",
    "most_reviewed_game"
   ]
  },
  {
   "cell_type": "code",
   "execution_count": 423,
   "metadata": {},
   "outputs": [
    {
     "data": {
      "text/plain": [
       "'Euro Truck Simulator 2'"
      ]
     },
     "execution_count": 423,
     "metadata": {},
     "output_type": "execute_result"
    }
   ],
   "source": [
    "most_expensive_game=df.nlargest(1,'Price')['Name'].values\n",
    "most_expensive_game=most_expensive_game[0]\n",
    "most_expensive_game"
   ]
  },
  {
   "cell_type": "code",
   "execution_count": 349,
   "metadata": {},
   "outputs": [
    {
     "data": {
      "image/png": "[encoded data removed]",
      "text/plain": [
       "<Figure size 936x648 with 1 Axes>"
      ]
     },
     "metadata": {
      "needs_background": "light"
     },
     "output_type": "display_data"
    }
   ],
   "source": [
    "# Scatterplot number of reviews vs release date\n",
    "plt.grid()\n",
    "for i in range(len(types)):\n",
    "    for element in \n",
    "    plt.scatter(x=df[df['type']==types[i]]['Release_date'], y=df[df['type']==types[i]]['Number of reviews'], label=types[i], s=50, color=colors[i], alpha = 1)\n",
    "plt.text(x=datetime(2012,1,1),y=3100000, s=most_reviewed_game, fontsize=15, color='black', rotation=0)\n",
    "plt.legend(loc='upper left',prop={'size': 14})\n",
    "plt.ylabel(\"Number of reviews\",fontsize=13)\n",
    "plt.xlabel(\"Release date\",fontsize=13)\n",
    "plt.xticks(fontsize=13)\n",
    "plt.yticks(fontsize=13)\n",
    "plt.show()"
   ]
  },
  {
   "cell_type": "code",
   "execution_count": 435,
   "metadata": {},
   "outputs": [
    {
     "data": {
      "text/plain": [
       "<pandas.core.groupby.generic.DataFrameGroupBy object at 0x0000022DBE13DBE0>"
      ]
     },
     "execution_count": 435,
     "metadata": {},
     "output_type": "execute_result"
    }
   ],
   "source": [
    "groups = df.groupby(['type'])\n",
    "groups"
   ]
  },
  {
   "cell_type": "code",
   "execution_count": 392,
   "metadata": {},
   "outputs": [
    {
     "data": {
      "text/html": [
       "<div>\n",
       "<style scoped>\n",
       "    .dataframe tbody tr th:only-of-type {\n",
       "        vertical-align: middle;\n",
       "    }\n",
       "\n",
       "    .dataframe tbody tr th {\n",
       "        vertical-align: top;\n",
       "    }\n",
       "\n",
       "    .dataframe thead th {\n",
       "        text-align: right;\n",
       "    }\n",
       "</style>\n",
       "<table border=\"1\" class=\"dataframe\">\n",
       "  <thead>\n",
       "    <tr style=\"text-align: right;\">\n",
       "      <th></th>\n",
       "      <th>Number of languages</th>\n",
       "    </tr>\n",
       "    <tr>\n",
       "      <th>type</th>\n",
       "      <th></th>\n",
       "    </tr>\n",
       "  </thead>\n",
       "  <tbody>\n",
       "    <tr>\n",
       "      <th>Bronze</th>\n",
       "      <td>11.716667</td>\n",
       "    </tr>\n",
       "    <tr>\n",
       "      <th>Gold</th>\n",
       "      <td>11.500000</td>\n",
       "    </tr>\n",
       "    <tr>\n",
       "      <th>Platinum</th>\n",
       "      <td>14.833333</td>\n",
       "    </tr>\n",
       "    <tr>\n",
       "      <th>Silver</th>\n",
       "      <td>14.562500</td>\n",
       "    </tr>\n",
       "  </tbody>\n",
       "</table>\n",
       "</div>"
      ],
      "text/plain": [
       "          Number of languages\n",
       "type                         \n",
       "Bronze              11.716667\n",
       "Gold                11.500000\n",
       "Platinum            14.833333\n",
       "Silver              14.562500"
      ]
     },
     "execution_count": 392,
     "metadata": {},
     "output_type": "execute_result"
    }
   ],
   "source": [
    "df[['type','Number of languages']].groupby(['type']).mean()"
   ]
  },
  {
   "cell_type": "code",
   "execution_count": 269,
   "metadata": {},
   "outputs": [
    {
     "data": {
      "text/html": [
       "<div>\n",
       "<style scoped>\n",
       "    .dataframe tbody tr th:only-of-type {\n",
       "        vertical-align: middle;\n",
       "    }\n",
       "\n",
       "    .dataframe tbody tr th {\n",
       "        vertical-align: top;\n",
       "    }\n",
       "\n",
       "    .dataframe thead th {\n",
       "        text-align: right;\n",
       "    }\n",
       "</style>\n",
       "<table border=\"1\" class=\"dataframe\">\n",
       "  <thead>\n",
       "    <tr style=\"text-align: right;\">\n",
       "      <th></th>\n",
       "      <th>Number of reviews</th>\n",
       "    </tr>\n",
       "    <tr>\n",
       "      <th>type</th>\n",
       "      <th></th>\n",
       "    </tr>\n",
       "  </thead>\n",
       "  <tbody>\n",
       "    <tr>\n",
       "      <th>Bronze</th>\n",
       "      <td>48445.700000</td>\n",
       "    </tr>\n",
       "    <tr>\n",
       "      <th>Gold</th>\n",
       "      <td>76562.166667</td>\n",
       "    </tr>\n",
       "    <tr>\n",
       "      <th>Silver</th>\n",
       "      <td>93540.375000</td>\n",
       "    </tr>\n",
       "    <tr>\n",
       "      <th>Platinum</th>\n",
       "      <td>559047.000000</td>\n",
       "    </tr>\n",
       "  </tbody>\n",
       "</table>\n",
       "</div>"
      ],
      "text/plain": [
       "          Number of reviews\n",
       "type                       \n",
       "Bronze         48445.700000\n",
       "Gold           76562.166667\n",
       "Silver         93540.375000\n",
       "Platinum      559047.000000"
      ]
     },
     "execution_count": 269,
     "metadata": {},
     "output_type": "execute_result"
    }
   ],
   "source": [
    "number_of_reviews=df[['type','Number of reviews']].groupby(['type']).mean()\n",
    "number_of_reviews=number_of_reviews.sort_values(by=['Number of reviews'])\n",
    "number_of_reviews"
   ]
  },
  {
   "cell_type": "markdown",
   "metadata": {},
   "source": [
    "### Barplot"
   ]
  },
  {
   "cell_type": "markdown",
   "metadata": {},
   "source": [
    "#### User review"
   ]
  },
  {
   "cell_type": "code",
   "execution_count": 280,
   "metadata": {},
   "outputs": [],
   "source": [
    "def plot_bar_x(df,xlabel):\n",
    "    # this is for plotting purpose\n",
    "    #lab=list(df[xlabel].unique())\n",
    "    index = np.arange(len(types))\n",
    "    df.plot.bar()\n",
    "    plt.grid()\n",
    "    plt.xlabel('Best seller category', fontsize=15)\n",
    "    plt.xticks(index, types, fontsize=15, rotation=0, horizontalalignment='right')\n",
    "    plt.title('Burtin Dataset')\n",
    "    plt.show()"
   ]
  },
  {
   "cell_type": "code",
   "execution_count": 281,
   "metadata": {},
   "outputs": [
    {
     "data": {
      "text/plain": [
       "['Platinum', 'Gold', 'Silver', 'Bronze']"
      ]
     },
     "execution_count": 281,
     "metadata": {},
     "output_type": "execute_result"
    }
   ],
   "source": [
    "types"
   ]
  },
  {
   "cell_type": "code",
   "execution_count": 272,
   "metadata": {},
   "outputs": [
    {
     "data": {
      "text/html": [
       "<div>\n",
       "<style scoped>\n",
       "    .dataframe tbody tr th:only-of-type {\n",
       "        vertical-align: middle;\n",
       "    }\n",
       "\n",
       "    .dataframe tbody tr th {\n",
       "        vertical-align: top;\n",
       "    }\n",
       "\n",
       "    .dataframe thead th {\n",
       "        text-align: right;\n",
       "    }\n",
       "</style>\n",
       "<table border=\"1\" class=\"dataframe\">\n",
       "  <thead>\n",
       "    <tr style=\"text-align: right;\">\n",
       "      <th>User_review</th>\n",
       "      <th>Mixed</th>\n",
       "      <th>Mostly Negative</th>\n",
       "      <th>Mostly Positive</th>\n",
       "      <th>Overwhelmingly Positive</th>\n",
       "      <th>Very Positive</th>\n",
       "    </tr>\n",
       "    <tr>\n",
       "      <th>type</th>\n",
       "      <th></th>\n",
       "      <th></th>\n",
       "      <th></th>\n",
       "      <th></th>\n",
       "      <th></th>\n",
       "    </tr>\n",
       "  </thead>\n",
       "  <tbody>\n",
       "    <tr>\n",
       "      <th>Bronze</th>\n",
       "      <td>6</td>\n",
       "      <td>3</td>\n",
       "      <td>15</td>\n",
       "      <td>9</td>\n",
       "      <td>27</td>\n",
       "    </tr>\n",
       "    <tr>\n",
       "      <th>Gold</th>\n",
       "      <td>1</td>\n",
       "      <td>0</td>\n",
       "      <td>5</td>\n",
       "      <td>2</td>\n",
       "      <td>4</td>\n",
       "    </tr>\n",
       "    <tr>\n",
       "      <th>Platinum</th>\n",
       "      <td>3</td>\n",
       "      <td>0</td>\n",
       "      <td>3</td>\n",
       "      <td>0</td>\n",
       "      <td>6</td>\n",
       "    </tr>\n",
       "    <tr>\n",
       "      <th>Silver</th>\n",
       "      <td>2</td>\n",
       "      <td>0</td>\n",
       "      <td>6</td>\n",
       "      <td>1</td>\n",
       "      <td>7</td>\n",
       "    </tr>\n",
       "  </tbody>\n",
       "</table>\n",
       "</div>"
      ],
      "text/plain": [
       "User_review  Mixed  Mostly Negative  Mostly Positive  Overwhelmingly Positive  \\\n",
       "type                                                                            \n",
       "Bronze           6                3               15                        9   \n",
       "Gold             1                0                5                        2   \n",
       "Platinum         3                0                3                        0   \n",
       "Silver           2                0                6                        1   \n",
       "\n",
       "User_review  Very Positive  \n",
       "type                        \n",
       "Bronze                  27  \n",
       "Gold                     4  \n",
       "Platinum                 6  \n",
       "Silver                   7  "
      ]
     },
     "execution_count": 272,
     "metadata": {},
     "output_type": "execute_result"
    }
   ],
   "source": [
    "users_reviews=pd.crosstab(df['type'], df['User_review'])\n",
    "users_reviews"
   ]
  },
  {
   "cell_type": "code",
   "execution_count": 273,
   "metadata": {},
   "outputs": [],
   "source": [
    "users_reviews = users_reviews.reindex(index = types)"
   ]
  },
  {
   "cell_type": "code",
   "execution_count": 282,
   "metadata": {},
   "outputs": [
    {
     "data": {
      "image/png": "[encoded data removed]",
      "text/plain": [
       "<Figure size 936x648 with 1 Axes>"
      ]
     },
     "metadata": {
      "needs_background": "light"
     },
     "output_type": "display_data"
    }
   ],
   "source": [
    "plot_bar_x(users_reviews,types)"
   ]
  },
  {
   "cell_type": "code",
   "execution_count": 276,
   "metadata": {},
   "outputs": [],
   "source": [
    "users_reviews = users_reviews.reindex(index = types)"
   ]
  },
  {
   "cell_type": "code",
   "execution_count": 277,
   "metadata": {},
   "outputs": [
    {
     "data": {
      "image/png": "[encoded data removed]",
      "text/plain": [
       "<Figure size 936x648 with 1 Axes>"
      ]
     },
     "metadata": {
      "needs_background": "light"
     },
     "output_type": "display_data"
    }
   ],
   "source": [
    "plot_bar_x(users_reviews,types)"
   ]
  },
  {
   "cell_type": "code",
   "execution_count": 350,
   "metadata": {},
   "outputs": [
    {
     "data": {
      "text/plain": [
       "array(['Very Positive', 'Mixed', 'Mostly Positive',\n",
       "       'Overwhelmingly Positive', 'Mostly Negative'], dtype=object)"
      ]
     },
     "execution_count": 350,
     "metadata": {},
     "output_type": "execute_result"
    }
   ],
   "source": [
    "df['User_review'].unique()"
   ]
  },
  {
   "cell_type": "markdown",
   "metadata": {},
   "source": [
    "#### Tags"
   ]
  },
  {
   "cell_type": "code",
   "execution_count": 284,
   "metadata": {},
   "outputs": [
    {
     "data": {
      "text/plain": [
       "['Multiplayer',\n",
       " 'Singleplayer',\n",
       " 'Action',\n",
       " 'Co-op',\n",
       " 'Open World',\n",
       " 'Adventure',\n",
       " 'Strategy',\n",
       " 'Atmospheric',\n",
       " 'Great Soundtrack',\n",
       " 'Simulation']"
      ]
     },
     "execution_count": 284,
     "metadata": {},
     "output_type": "execute_result"
    }
   ],
   "source": [
    "tags_list"
   ]
  },
  {
   "cell_type": "code",
   "execution_count": 287,
   "metadata": {},
   "outputs": [],
   "source": [
    "count_tags=df[tags_list].apply(pd.value_counts,axis=0)"
   ]
  },
  {
   "cell_type": "code",
   "execution_count": 288,
   "metadata": {},
   "outputs": [],
   "source": [
    "count_tags=count_tags.T"
   ]
  },
  {
   "cell_type": "code",
   "execution_count": 292,
   "metadata": {},
   "outputs": [
    {
     "data": {
      "text/html": [
       "<div>\n",
       "<style scoped>\n",
       "    .dataframe tbody tr th:only-of-type {\n",
       "        vertical-align: middle;\n",
       "    }\n",
       "\n",
       "    .dataframe tbody tr th {\n",
       "        vertical-align: top;\n",
       "    }\n",
       "\n",
       "    .dataframe thead th {\n",
       "        text-align: right;\n",
       "    }\n",
       "</style>\n",
       "<table border=\"1\" class=\"dataframe\">\n",
       "  <thead>\n",
       "    <tr style=\"text-align: right;\">\n",
       "      <th></th>\n",
       "      <th>Action</th>\n",
       "      <th>Adventure</th>\n",
       "      <th>Atmospheric</th>\n",
       "      <th>Co-op</th>\n",
       "      <th>Great Soundtrack</th>\n",
       "      <th>Multiplayer</th>\n",
       "      <th>Open World</th>\n",
       "      <th>Simulation</th>\n",
       "      <th>Singleplayer</th>\n",
       "      <th>Strategy</th>\n",
       "    </tr>\n",
       "    <tr>\n",
       "      <th>type</th>\n",
       "      <th></th>\n",
       "      <th></th>\n",
       "      <th></th>\n",
       "      <th></th>\n",
       "      <th></th>\n",
       "      <th></th>\n",
       "      <th></th>\n",
       "      <th></th>\n",
       "      <th></th>\n",
       "      <th></th>\n",
       "    </tr>\n",
       "  </thead>\n",
       "  <tbody>\n",
       "    <tr>\n",
       "      <th>Bronze</th>\n",
       "      <td>42.0</td>\n",
       "      <td>29.0</td>\n",
       "      <td>29.0</td>\n",
       "      <td>39.0</td>\n",
       "      <td>27.0</td>\n",
       "      <td>52.0</td>\n",
       "      <td>36.0</td>\n",
       "      <td>27.0</td>\n",
       "      <td>54.0</td>\n",
       "      <td>34.0</td>\n",
       "    </tr>\n",
       "    <tr>\n",
       "      <th>Gold</th>\n",
       "      <td>10.0</td>\n",
       "      <td>9.0</td>\n",
       "      <td>8.0</td>\n",
       "      <td>6.0</td>\n",
       "      <td>8.0</td>\n",
       "      <td>9.0</td>\n",
       "      <td>8.0</td>\n",
       "      <td>4.0</td>\n",
       "      <td>9.0</td>\n",
       "      <td>7.0</td>\n",
       "    </tr>\n",
       "    <tr>\n",
       "      <th>Platinum</th>\n",
       "      <td>11.0</td>\n",
       "      <td>5.0</td>\n",
       "      <td>7.0</td>\n",
       "      <td>11.0</td>\n",
       "      <td>7.0</td>\n",
       "      <td>12.0</td>\n",
       "      <td>5.0</td>\n",
       "      <td>4.0</td>\n",
       "      <td>9.0</td>\n",
       "      <td>5.0</td>\n",
       "    </tr>\n",
       "    <tr>\n",
       "      <th>Silver</th>\n",
       "      <td>15.0</td>\n",
       "      <td>13.0</td>\n",
       "      <td>11.0</td>\n",
       "      <td>7.0</td>\n",
       "      <td>6.0</td>\n",
       "      <td>11.0</td>\n",
       "      <td>14.0</td>\n",
       "      <td>6.0</td>\n",
       "      <td>14.0</td>\n",
       "      <td>4.0</td>\n",
       "    </tr>\n",
       "  </tbody>\n",
       "</table>\n",
       "</div>"
      ],
      "text/plain": [
       "          Action  Adventure  Atmospheric  Co-op  Great Soundtrack  \\\n",
       "type                                                                \n",
       "Bronze      42.0       29.0         29.0   39.0              27.0   \n",
       "Gold        10.0        9.0          8.0    6.0               8.0   \n",
       "Platinum    11.0        5.0          7.0   11.0               7.0   \n",
       "Silver      15.0       13.0         11.0    7.0               6.0   \n",
       "\n",
       "          Multiplayer  Open World  Simulation  Singleplayer  Strategy  \n",
       "type                                                                   \n",
       "Bronze           52.0        36.0        27.0          54.0      34.0  \n",
       "Gold              9.0         8.0         4.0           9.0       7.0  \n",
       "Platinum         12.0         5.0         4.0           9.0       5.0  \n",
       "Silver           11.0        14.0         6.0          14.0       4.0  "
      ]
     },
     "execution_count": 292,
     "metadata": {},
     "output_type": "execute_result"
    }
   ],
   "source": [
    "#Count the tags for all types\n",
    "top_tags=pd.pivot_table(df[['type','Multiplayer',\n",
    " 'Singleplayer',\n",
    " 'Action',\n",
    " 'Co-op',\n",
    " 'Open World',\n",
    " 'Adventure',\n",
    " 'Strategy',\n",
    " 'Atmospheric',\n",
    " 'Great Soundtrack',\n",
    " 'Simulation']], index='type', aggfunc='sum')\n",
    "top_tags"
   ]
  },
  {
   "cell_type": "code",
   "execution_count": 293,
   "metadata": {},
   "outputs": [
    {
     "data": {
      "text/html": [
       "<div>\n",
       "<style scoped>\n",
       "    .dataframe tbody tr th:only-of-type {\n",
       "        vertical-align: middle;\n",
       "    }\n",
       "\n",
       "    .dataframe tbody tr th {\n",
       "        vertical-align: top;\n",
       "    }\n",
       "\n",
       "    .dataframe thead th {\n",
       "        text-align: right;\n",
       "    }\n",
       "</style>\n",
       "<table border=\"1\" class=\"dataframe\">\n",
       "  <thead>\n",
       "    <tr style=\"text-align: right;\">\n",
       "      <th>type</th>\n",
       "      <th>Bronze</th>\n",
       "      <th>Gold</th>\n",
       "      <th>Platinum</th>\n",
       "      <th>Silver</th>\n",
       "    </tr>\n",
       "  </thead>\n",
       "  <tbody>\n",
       "    <tr>\n",
       "      <th>Action</th>\n",
       "      <td>42.0</td>\n",
       "      <td>10.0</td>\n",
       "      <td>11.0</td>\n",
       "      <td>15.0</td>\n",
       "    </tr>\n",
       "    <tr>\n",
       "      <th>Adventure</th>\n",
       "      <td>29.0</td>\n",
       "      <td>9.0</td>\n",
       "      <td>5.0</td>\n",
       "      <td>13.0</td>\n",
       "    </tr>\n",
       "    <tr>\n",
       "      <th>Atmospheric</th>\n",
       "      <td>29.0</td>\n",
       "      <td>8.0</td>\n",
       "      <td>7.0</td>\n",
       "      <td>11.0</td>\n",
       "    </tr>\n",
       "    <tr>\n",
       "      <th>Co-op</th>\n",
       "      <td>39.0</td>\n",
       "      <td>6.0</td>\n",
       "      <td>11.0</td>\n",
       "      <td>7.0</td>\n",
       "    </tr>\n",
       "    <tr>\n",
       "      <th>Great Soundtrack</th>\n",
       "      <td>27.0</td>\n",
       "      <td>8.0</td>\n",
       "      <td>7.0</td>\n",
       "      <td>6.0</td>\n",
       "    </tr>\n",
       "    <tr>\n",
       "      <th>Multiplayer</th>\n",
       "      <td>52.0</td>\n",
       "      <td>9.0</td>\n",
       "      <td>12.0</td>\n",
       "      <td>11.0</td>\n",
       "    </tr>\n",
       "    <tr>\n",
       "      <th>Open World</th>\n",
       "      <td>36.0</td>\n",
       "      <td>8.0</td>\n",
       "      <td>5.0</td>\n",
       "      <td>14.0</td>\n",
       "    </tr>\n",
       "    <tr>\n",
       "      <th>Simulation</th>\n",
       "      <td>27.0</td>\n",
       "      <td>4.0</td>\n",
       "      <td>4.0</td>\n",
       "      <td>6.0</td>\n",
       "    </tr>\n",
       "    <tr>\n",
       "      <th>Singleplayer</th>\n",
       "      <td>54.0</td>\n",
       "      <td>9.0</td>\n",
       "      <td>9.0</td>\n",
       "      <td>14.0</td>\n",
       "    </tr>\n",
       "    <tr>\n",
       "      <th>Strategy</th>\n",
       "      <td>34.0</td>\n",
       "      <td>7.0</td>\n",
       "      <td>5.0</td>\n",
       "      <td>4.0</td>\n",
       "    </tr>\n",
       "  </tbody>\n",
       "</table>\n",
       "</div>"
      ],
      "text/plain": [
       "type              Bronze  Gold  Platinum  Silver\n",
       "Action              42.0  10.0      11.0    15.0\n",
       "Adventure           29.0   9.0       5.0    13.0\n",
       "Atmospheric         29.0   8.0       7.0    11.0\n",
       "Co-op               39.0   6.0      11.0     7.0\n",
       "Great Soundtrack    27.0   8.0       7.0     6.0\n",
       "Multiplayer         52.0   9.0      12.0    11.0\n",
       "Open World          36.0   8.0       5.0    14.0\n",
       "Simulation          27.0   4.0       4.0     6.0\n",
       "Singleplayer        54.0   9.0       9.0    14.0\n",
       "Strategy            34.0   7.0       5.0     4.0"
      ]
     },
     "execution_count": 293,
     "metadata": {},
     "output_type": "execute_result"
    }
   ],
   "source": [
    "top_tags.T"
   ]
  },
  {
   "cell_type": "code",
   "execution_count": 300,
   "metadata": {},
   "outputs": [],
   "source": [
    "df_best=df[(df['type']=='Platinum') | (df['type']=='Gold') | (df['type']=='Silver')]"
   ]
  },
  {
   "cell_type": "code",
   "execution_count": 301,
   "metadata": {},
   "outputs": [
    {
     "data": {
      "text/plain": [
       "40"
      ]
     },
     "execution_count": 301,
     "metadata": {},
     "output_type": "execute_result"
    }
   ],
   "source": [
    "len(df_best)"
   ]
  },
  {
   "cell_type": "code",
   "execution_count": 302,
   "metadata": {},
   "outputs": [
    {
     "data": {
      "text/html": [
       "<div>\n",
       "<style scoped>\n",
       "    .dataframe tbody tr th:only-of-type {\n",
       "        vertical-align: middle;\n",
       "    }\n",
       "\n",
       "    .dataframe tbody tr th {\n",
       "        vertical-align: top;\n",
       "    }\n",
       "\n",
       "    .dataframe thead th {\n",
       "        text-align: right;\n",
       "    }\n",
       "</style>\n",
       "<table border=\"1\" class=\"dataframe\">\n",
       "  <thead>\n",
       "    <tr style=\"text-align: right;\">\n",
       "      <th></th>\n",
       "      <th>Action</th>\n",
       "      <th>Adventure</th>\n",
       "      <th>Atmospheric</th>\n",
       "      <th>Co-op</th>\n",
       "      <th>Great Soundtrack</th>\n",
       "      <th>Multiplayer</th>\n",
       "      <th>Open World</th>\n",
       "      <th>Simulation</th>\n",
       "      <th>Singleplayer</th>\n",
       "      <th>Strategy</th>\n",
       "    </tr>\n",
       "    <tr>\n",
       "      <th>type</th>\n",
       "      <th></th>\n",
       "      <th></th>\n",
       "      <th></th>\n",
       "      <th></th>\n",
       "      <th></th>\n",
       "      <th></th>\n",
       "      <th></th>\n",
       "      <th></th>\n",
       "      <th></th>\n",
       "      <th></th>\n",
       "    </tr>\n",
       "  </thead>\n",
       "  <tbody>\n",
       "    <tr>\n",
       "      <th>Gold</th>\n",
       "      <td>10.0</td>\n",
       "      <td>9.0</td>\n",
       "      <td>8.0</td>\n",
       "      <td>6.0</td>\n",
       "      <td>8.0</td>\n",
       "      <td>9.0</td>\n",
       "      <td>8.0</td>\n",
       "      <td>4.0</td>\n",
       "      <td>9.0</td>\n",
       "      <td>7.0</td>\n",
       "    </tr>\n",
       "    <tr>\n",
       "      <th>Platinum</th>\n",
       "      <td>11.0</td>\n",
       "      <td>5.0</td>\n",
       "      <td>7.0</td>\n",
       "      <td>11.0</td>\n",
       "      <td>7.0</td>\n",
       "      <td>12.0</td>\n",
       "      <td>5.0</td>\n",
       "      <td>4.0</td>\n",
       "      <td>9.0</td>\n",
       "      <td>5.0</td>\n",
       "    </tr>\n",
       "    <tr>\n",
       "      <th>Silver</th>\n",
       "      <td>15.0</td>\n",
       "      <td>13.0</td>\n",
       "      <td>11.0</td>\n",
       "      <td>7.0</td>\n",
       "      <td>6.0</td>\n",
       "      <td>11.0</td>\n",
       "      <td>14.0</td>\n",
       "      <td>6.0</td>\n",
       "      <td>14.0</td>\n",
       "      <td>4.0</td>\n",
       "    </tr>\n",
       "  </tbody>\n",
       "</table>\n",
       "</div>"
      ],
      "text/plain": [
       "          Action  Adventure  Atmospheric  Co-op  Great Soundtrack  \\\n",
       "type                                                                \n",
       "Gold        10.0        9.0          8.0    6.0               8.0   \n",
       "Platinum    11.0        5.0          7.0   11.0               7.0   \n",
       "Silver      15.0       13.0         11.0    7.0               6.0   \n",
       "\n",
       "          Multiplayer  Open World  Simulation  Singleplayer  Strategy  \n",
       "type                                                                   \n",
       "Gold              9.0         8.0         4.0           9.0       7.0  \n",
       "Platinum         12.0         5.0         4.0           9.0       5.0  \n",
       "Silver           11.0        14.0         6.0          14.0       4.0  "
      ]
     },
     "execution_count": 302,
     "metadata": {},
     "output_type": "execute_result"
    }
   ],
   "source": [
    "#Count the tags for platinum and gold types\n",
    "top_tags_best=pd.pivot_table(df_best[['type','Multiplayer',\n",
    " 'Singleplayer',\n",
    " 'Action',\n",
    " 'Co-op',\n",
    " 'Open World',\n",
    " 'Adventure',\n",
    " 'Strategy',\n",
    " 'Atmospheric',\n",
    " 'Great Soundtrack',\n",
    " 'Simulation']], index='type', aggfunc='sum')\n",
    "top_tags_best"
   ]
  },
  {
   "cell_type": "code",
   "execution_count": 390,
   "metadata": {},
   "outputs": [],
   "source": [
    "#define plotbar function\n",
    "def plot_bar_x(df,types):\n",
    "    # this is for plotting purpose\n",
    "    #lab=list(df[xlabel].unique())\n",
    "    index = np.arange(len(types))\n",
    "    df.plot.bar()\n",
    "    plt.grid()\n",
    "    plt.xlabel('Seller category', fontsize=15)\n",
    "    plt.ylabel('Count', fontsize=14)\n",
    "    plt.xticks(index, types, fontsize=15, rotation=0, horizontalalignment='right')\n",
    "    plt.yticks(fontsize=14)\n",
    "    plt.legend(loc='upper center',prop={'size': 13})\n",
    "    plt.title('Videogame Tags',fontsize=14)\n",
    "    plt.show()"
   ]
  },
  {
   "cell_type": "code",
   "execution_count": 328,
   "metadata": {},
   "outputs": [],
   "source": [
    "top_tags_best=top_tags_best.reindex(index = ['Platinum','Gold'])"
   ]
  },
  {
   "cell_type": "code",
   "execution_count": 346,
   "metadata": {},
   "outputs": [],
   "source": [
    "top_tags_bestT=top_tags_best.T"
   ]
  },
  {
   "cell_type": "code",
   "execution_count": 347,
   "metadata": {},
   "outputs": [],
   "source": [
    "top_tags_bestT=top_tags_bestT.sort_values(by=['Platinum'], ascending=False)"
   ]
  },
  {
   "cell_type": "code",
   "execution_count": 348,
   "metadata": {},
   "outputs": [
    {
     "data": {
      "image/png": "[encoded data removed]",
      "text/plain": [
       "<Figure size 936x648 with 1 Axes>"
      ]
     },
     "metadata": {
      "needs_background": "light"
     },
     "output_type": "display_data"
    }
   ],
   "source": [
    "plot_bar_x(top_tags_bestT,tags_list)"
   ]
  },
  {
   "cell_type": "code",
   "execution_count": 374,
   "metadata": {},
   "outputs": [
    {
     "data": {
      "text/html": [
       "<div>\n",
       "<style scoped>\n",
       "    .dataframe tbody tr th:only-of-type {\n",
       "        vertical-align: middle;\n",
       "    }\n",
       "\n",
       "    .dataframe tbody tr th {\n",
       "        vertical-align: top;\n",
       "    }\n",
       "\n",
       "    .dataframe thead th {\n",
       "        text-align: right;\n",
       "    }\n",
       "</style>\n",
       "<table border=\"1\" class=\"dataframe\">\n",
       "  <thead>\n",
       "    <tr style=\"text-align: right;\">\n",
       "      <th></th>\n",
       "      <th>Action</th>\n",
       "      <th>Adventure</th>\n",
       "      <th>Atmospheric</th>\n",
       "      <th>Co-op</th>\n",
       "      <th>Great Soundtrack</th>\n",
       "      <th>Multiplayer</th>\n",
       "      <th>Open World</th>\n",
       "      <th>Simulation</th>\n",
       "      <th>Singleplayer</th>\n",
       "      <th>Strategy</th>\n",
       "    </tr>\n",
       "    <tr>\n",
       "      <th>type</th>\n",
       "      <th></th>\n",
       "      <th></th>\n",
       "      <th></th>\n",
       "      <th></th>\n",
       "      <th></th>\n",
       "      <th></th>\n",
       "      <th></th>\n",
       "      <th></th>\n",
       "      <th></th>\n",
       "      <th></th>\n",
       "    </tr>\n",
       "  </thead>\n",
       "  <tbody>\n",
       "    <tr>\n",
       "      <th>Platinum</th>\n",
       "      <td>11.0</td>\n",
       "      <td>5.0</td>\n",
       "      <td>7.0</td>\n",
       "      <td>11.0</td>\n",
       "      <td>7.0</td>\n",
       "      <td>12.0</td>\n",
       "      <td>5.0</td>\n",
       "      <td>4.0</td>\n",
       "      <td>9.0</td>\n",
       "      <td>5.0</td>\n",
       "    </tr>\n",
       "    <tr>\n",
       "      <th>Gold</th>\n",
       "      <td>10.0</td>\n",
       "      <td>9.0</td>\n",
       "      <td>8.0</td>\n",
       "      <td>6.0</td>\n",
       "      <td>8.0</td>\n",
       "      <td>9.0</td>\n",
       "      <td>8.0</td>\n",
       "      <td>4.0</td>\n",
       "      <td>9.0</td>\n",
       "      <td>7.0</td>\n",
       "    </tr>\n",
       "  </tbody>\n",
       "</table>\n",
       "</div>"
      ],
      "text/plain": [
       "          Action  Adventure  Atmospheric  Co-op  Great Soundtrack  \\\n",
       "type                                                                \n",
       "Platinum    11.0        5.0          7.0   11.0               7.0   \n",
       "Gold        10.0        9.0          8.0    6.0               8.0   \n",
       "\n",
       "          Multiplayer  Open World  Simulation  Singleplayer  Strategy  \n",
       "type                                                                   \n",
       "Platinum         12.0         5.0         4.0           9.0       5.0  \n",
       "Gold              9.0         8.0         4.0           9.0       7.0  "
      ]
     },
     "execution_count": 374,
     "metadata": {},
     "output_type": "execute_result"
    }
   ],
   "source": [
    "top_tags_best"
   ]
  },
  {
   "cell_type": "code",
   "execution_count": 379,
   "metadata": {},
   "outputs": [],
   "source": [
    "top_tags_bestTT=top_tags_bestT.T"
   ]
  },
  {
   "cell_type": "code",
   "execution_count": 380,
   "metadata": {},
   "outputs": [
    {
     "data": {
      "text/html": [
       "<div>\n",
       "<style scoped>\n",
       "    .dataframe tbody tr th:only-of-type {\n",
       "        vertical-align: middle;\n",
       "    }\n",
       "\n",
       "    .dataframe tbody tr th {\n",
       "        vertical-align: top;\n",
       "    }\n",
       "\n",
       "    .dataframe thead th {\n",
       "        text-align: right;\n",
       "    }\n",
       "</style>\n",
       "<table border=\"1\" class=\"dataframe\">\n",
       "  <thead>\n",
       "    <tr style=\"text-align: right;\">\n",
       "      <th></th>\n",
       "      <th>Multiplayer</th>\n",
       "      <th>Action</th>\n",
       "      <th>Co-op</th>\n",
       "      <th>Singleplayer</th>\n",
       "      <th>Atmospheric</th>\n",
       "      <th>Great Soundtrack</th>\n",
       "      <th>Adventure</th>\n",
       "      <th>Open World</th>\n",
       "      <th>Strategy</th>\n",
       "      <th>Simulation</th>\n",
       "    </tr>\n",
       "    <tr>\n",
       "      <th>type</th>\n",
       "      <th></th>\n",
       "      <th></th>\n",
       "      <th></th>\n",
       "      <th></th>\n",
       "      <th></th>\n",
       "      <th></th>\n",
       "      <th></th>\n",
       "      <th></th>\n",
       "      <th></th>\n",
       "      <th></th>\n",
       "    </tr>\n",
       "  </thead>\n",
       "  <tbody>\n",
       "    <tr>\n",
       "      <th>Platinum</th>\n",
       "      <td>12.0</td>\n",
       "      <td>11.0</td>\n",
       "      <td>11.0</td>\n",
       "      <td>9.0</td>\n",
       "      <td>7.0</td>\n",
       "      <td>7.0</td>\n",
       "      <td>5.0</td>\n",
       "      <td>5.0</td>\n",
       "      <td>5.0</td>\n",
       "      <td>4.0</td>\n",
       "    </tr>\n",
       "    <tr>\n",
       "      <th>Gold</th>\n",
       "      <td>9.0</td>\n",
       "      <td>10.0</td>\n",
       "      <td>6.0</td>\n",
       "      <td>9.0</td>\n",
       "      <td>8.0</td>\n",
       "      <td>8.0</td>\n",
       "      <td>9.0</td>\n",
       "      <td>8.0</td>\n",
       "      <td>7.0</td>\n",
       "      <td>4.0</td>\n",
       "    </tr>\n",
       "  </tbody>\n",
       "</table>\n",
       "</div>"
      ],
      "text/plain": [
       "          Multiplayer  Action  Co-op  Singleplayer  Atmospheric  \\\n",
       "type                                                              \n",
       "Platinum         12.0    11.0   11.0           9.0          7.0   \n",
       "Gold              9.0    10.0    6.0           9.0          8.0   \n",
       "\n",
       "          Great Soundtrack  Adventure  Open World  Strategy  Simulation  \n",
       "type                                                                     \n",
       "Platinum               7.0        5.0         5.0       5.0         4.0  \n",
       "Gold                   8.0        9.0         8.0       7.0         4.0  "
      ]
     },
     "execution_count": 380,
     "metadata": {},
     "output_type": "execute_result"
    }
   ],
   "source": [
    "top_tags_bestTT"
   ]
  },
  {
   "cell_type": "code",
   "execution_count": 391,
   "metadata": {},
   "outputs": [
    {
     "data": {
      "image/png": "[encoded data removed]",
      "text/plain": [
       "<Figure size 936x648 with 1 Axes>"
      ]
     },
     "metadata": {
      "needs_background": "light"
     },
     "output_type": "display_data"
    }
   ],
   "source": [
    "\n",
    "plot_bar_x(top_tags_bestTT,best_types)"
   ]
  }
 ],
 "metadata": {
  "kernelspec": {
   "display_name": "Python 3",
   "language": "python",
   "name": "python3"
  },
  "language_info": {
   "codemirror_mode": {
    "name": "ipython",
    "version": 3
   },
   "file_extension": ".py",
   "mimetype": "text/x-python",
   "name": "python",
   "nbconvert_exporter": "python",
   "pygments_lexer": "ipython3",
   "version": "3.7.3"
  }
 },
 "nbformat": 4,
 "nbformat_minor": 4
}
